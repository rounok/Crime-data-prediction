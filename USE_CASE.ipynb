{
    "nbformat_minor": 1, 
    "cells": [
        {
            "source": "## Problem Description:", 
            "cell_type": "markdown", 
            "metadata": {
                "collapsed": true
            }
        }, 
        {
            "source": "Crimes have a dominant impact in our social, economical, physical , moral aspect of life. Since beginning of time this is something being prominent is different shape and number across different domain of our society. Different orginizations are trying to deal it with their utmost capacity but yet that process is to some extent relies on descriptive analytics. Our approach is to make this process more time and quality efficient by merging descriptive and predictive analytics.In that path, we have attempted to use machine learning to explore how it can aid all current processes used by different social and goverment organizations in terms of predicting crimes across different times and location types.", 
            "cell_type": "markdown", 
            "metadata": {}
        }, 
        {
            "source": "## Data to be used:", 
            "cell_type": "markdown", 
            "metadata": {}
        }, 
        {
            "source": "Data is the key behind any analytics use cases and for predictive side it is even more valuable as this drives the overall life cycle and quality of predictions. To predict crimes, we need historial data and evidences of past occurances and related attributes about different occurances. \nWe have used the popular Kaggle as a source of data.\n\n- This dataset reflects reported incidents of crime (with the exception of murders where data exists for each victim) that occurred in the City of Chicago from 2001 to  2017, minus the most recent seven days. Data is extracted from the Chicago Police Department's CLEAR (Citizen Law Enforcement Analysis and Reporting) system. In order to protect the privacy of crime victims, addresses are shown at the block level only and specific locations are not identified. Should you have questions about this dataset, you may contact the Research & Development Division of the Chicago Police Department at 312.745.6071 or RDAnalysis@chicagopolice.org\nFurther details about the dataset is given here: https://www.kaggle.com/currie32/crimes-in-chicago/home", 
            "cell_type": "markdown", 
            "metadata": {}
        }, 
        {
            "execution_count": 1, 
            "cell_type": "code", 
            "metadata": {}, 
            "outputs": [], 
            "source": "import numpy as np\nimport pandas as pd\nfrom sklearn import preprocessing\nimport matplotlib.pyplot as plt\n%matplotlib inline\nplt.style.use('seaborn')\nfrom IPython.display import display\n\nfrom watson_machine_learning_client import WatsonMachineLearningAPIClient"
        }, 
        {
            "execution_count": 2, 
            "cell_type": "code", 
            "metadata": {}, 
            "outputs": [
                {
                    "execution_count": 2, 
                    "metadata": {}, 
                    "data": {
                        "text/html": "<div>\n<style scoped>\n    .dataframe tbody tr th:only-of-type {\n        vertical-align: middle;\n    }\n\n    .dataframe tbody tr th {\n        vertical-align: top;\n    }\n\n    .dataframe thead th {\n        text-align: right;\n    }\n</style>\n<table border=\"1\" class=\"dataframe\">\n  <thead>\n    <tr style=\"text-align: right;\">\n      <th></th>\n      <th>Unnamed: 0</th>\n      <th>ID</th>\n      <th>Case Number</th>\n      <th>Date</th>\n      <th>Block</th>\n      <th>IUCR</th>\n      <th>Primary Type</th>\n      <th>Description</th>\n      <th>Location Description</th>\n      <th>Arrest</th>\n      <th>...</th>\n      <th>Ward</th>\n      <th>Community Area</th>\n      <th>FBI Code</th>\n      <th>X Coordinate</th>\n      <th>Y Coordinate</th>\n      <th>Year</th>\n      <th>Updated On</th>\n      <th>Latitude</th>\n      <th>Longitude</th>\n      <th>Location</th>\n    </tr>\n  </thead>\n  <tbody>\n    <tr>\n      <th>0</th>\n      <td>3</td>\n      <td>10508693</td>\n      <td>HZ250496</td>\n      <td>05/03/2016 11:40:00 PM</td>\n      <td>013XX S SAWYER AVE</td>\n      <td>0486</td>\n      <td>BATTERY</td>\n      <td>DOMESTIC BATTERY SIMPLE</td>\n      <td>APARTMENT</td>\n      <td>True</td>\n      <td>...</td>\n      <td>24.0</td>\n      <td>29.0</td>\n      <td>08B</td>\n      <td>1154907.0</td>\n      <td>1893681.0</td>\n      <td>2016</td>\n      <td>05/10/2016 03:56:50 PM</td>\n      <td>41.864073</td>\n      <td>-87.706819</td>\n      <td>(41.864073157, -87.706818608)</td>\n    </tr>\n  </tbody>\n</table>\n<p>1 rows \u00d7 23 columns</p>\n</div>", 
                        "text/plain": "   Unnamed: 0        ID Case Number                    Date  \\\n0           3  10508693    HZ250496  05/03/2016 11:40:00 PM   \n\n                Block  IUCR Primary Type              Description  \\\n0  013XX S SAWYER AVE  0486      BATTERY  DOMESTIC BATTERY SIMPLE   \n\n  Location Description  Arrest              ...                Ward  \\\n0            APARTMENT    True              ...                24.0   \n\n   Community Area  FBI Code  X Coordinate  Y Coordinate  Year  \\\n0            29.0       08B     1154907.0     1893681.0  2016   \n\n               Updated On   Latitude  Longitude                       Location  \n0  05/10/2016 03:56:50 PM  41.864073 -87.706819  (41.864073157, -87.706818608)  \n\n[1 rows x 23 columns]"
                    }, 
                    "output_type": "execute_result"
                }
            ], 
            "source": "# The code was removed by Watson Studio for sharing."
        }, 
        {
            "source": "## Methodology:", 
            "cell_type": "markdown", 
            "metadata": {}
        }, 
        {
            "source": "The aim is to undertand crimes around different location spaces types and crime types in accordance with timeline. We have used the basic machine learning pipeline and adopted following steps:\n\n- Data clean and exploration: \n    - We have used the dataset consists of crime records (2005-2017). Initally we have cleaned up some columns having garbage values. After that we have used data exploration concepts like visualizations and tabular format to explore different columns and their distribution pattern related to times.From EDA I have found that crime in Chicago has steadily decreased year over year for the most part and that we consistently see upticks in crime during the summer (seasonality). Another timeseries trend that makes itself aparent is that more crimes occur in the latter half of the week than in the beginning. Also, the majority of crimes occur on the South and West sides. \n- Data ETL and feature engineering: \n    - Once we got the view of the data distributions and some basic insights, we have loaded the data in our environment (Watson Studio) notebook and setup clean up steps around the features.After that, we have extracted the features that are contrbuting more in the target class (location types) based on the data exploration phase.We have also encoded out target class (Location Description Number) limited to 4 classes (APARTMENT/RESINDENCE, OPEN SPACES, CLOSED SPACES, OTHER) only so it gives us a better perspective. Also for all this methods, we have analyzed the data in relevance to the date and time associated to the crimes.After doing all feature engineering, features data are saved as part of the ETL process to the cloud object store.\n- Model training: \n    - We have used neural network model and keras framework to generate the model using the features selected in previous step.As for the model config, we have keras sequntial model with three layers with relu activation funtion and the output layer with softmax activation. \n- Model Evaluation: \n    - Since our implementation is multilable classification in nature, we have used standard loss metric like categorical_crossentropy during model training and confusion metrics (accuracy,precision, recall, f1-score) as part of the model performance validation.\n- Model deploytment: \n    - We have used IBM Watson machine learning as a medium for generating, saving the model in cloud object storage and deploying in the cloud as web service and thus generated an API end point to access from any applications. Basic steps to follow:\n    - Setup watson machine learning as service\n    - get associated credentials\n    - generate model using wml_client api \n    - get scoring URL and use for predictions", 
            "cell_type": "markdown", 
            "metadata": {}
        }, 
        {
            "execution_count": 3, 
            "cell_type": "code", 
            "metadata": {}, 
            "outputs": [], 
            "source": "cdata17.Date = pd.to_datetime(cdata17.Date, format='%m/%d/%Y %I:%M:%S %p')"
        }, 
        {
            "execution_count": 4, 
            "cell_type": "code", 
            "metadata": {}, 
            "outputs": [], 
            "source": "features = pd.DataFrame(columns = [\"Date\", \"Primary Type\", \"Location Description\", \"Community Area\", \"Beat\", \"District\", \"Ward\"])\nfeat_value = cdata17[[\"Date\", \"Primary Type\", \"Location Description\", \"Community Area\", \"Beat\", \"District\", \"Ward\"]]"
        }, 
        {
            "execution_count": 5, 
            "cell_type": "code", 
            "metadata": {}, 
            "outputs": [], 
            "source": "feat_value.index = pd.DatetimeIndex(feat_value.Date)"
        }, 
        {
            "execution_count": 54, 
            "cell_type": "code", 
            "metadata": {}, 
            "outputs": [], 
            "source": "## random test data"
        }, 
        {
            "execution_count": 55, 
            "cell_type": "code", 
            "metadata": {}, 
            "outputs": [], 
            "source": "crimes_2017 = feat_value.loc['2017']\ntest_record= crimes_2017.sample(n=1)"
        }, 
        {
            "execution_count": 56, 
            "cell_type": "code", 
            "metadata": {}, 
            "outputs": [
                {
                    "execution_count": 56, 
                    "metadata": {}, 
                    "data": {
                        "text/html": "<div>\n<style scoped>\n    .dataframe tbody tr th:only-of-type {\n        vertical-align: middle;\n    }\n\n    .dataframe tbody tr th {\n        vertical-align: top;\n    }\n\n    .dataframe thead th {\n        text-align: right;\n    }\n</style>\n<table border=\"1\" class=\"dataframe\">\n  <thead>\n    <tr style=\"text-align: right;\">\n      <th></th>\n      <th>Date</th>\n      <th>Primary Type</th>\n      <th>Location Description</th>\n      <th>Community Area</th>\n      <th>Beat</th>\n      <th>District</th>\n      <th>Ward</th>\n    </tr>\n    <tr>\n      <th>Date</th>\n      <th></th>\n      <th></th>\n      <th></th>\n      <th></th>\n      <th></th>\n      <th></th>\n      <th></th>\n    </tr>\n  </thead>\n  <tbody>\n    <tr>\n      <th>2017-01-09 14:00:00</th>\n      <td>2017-01-09 14:00:00</td>\n      <td>THEFT</td>\n      <td>PARKING LOT/GARAGE(NON.RESID.)</td>\n      <td>6.0</td>\n      <td>1924</td>\n      <td>19.0</td>\n      <td>44.0</td>\n    </tr>\n  </tbody>\n</table>\n</div>", 
                        "text/plain": "                                   Date Primary Type  \\\nDate                                                   \n2017-01-09 14:00:00 2017-01-09 14:00:00        THEFT   \n\n                               Location Description  Community Area  Beat  \\\nDate                                                                        \n2017-01-09 14:00:00  PARKING LOT/GARAGE(NON.RESID.)             6.0  1924   \n\n                     District  Ward  \nDate                                 \n2017-01-09 14:00:00      19.0  44.0  "
                    }, 
                    "output_type": "execute_result"
                }
            ], 
            "source": "test_record"
        }, 
        {
            "execution_count": 57, 
            "cell_type": "code", 
            "metadata": {}, 
            "outputs": [], 
            "source": "primary_type = preprocessing.LabelEncoder()"
        }, 
        {
            "execution_count": 58, 
            "cell_type": "code", 
            "metadata": {}, 
            "outputs": [], 
            "source": "test_record.loc[:, 'Primary Type in number'] = primary_type.fit_transform(test_record['Primary Type'])"
        }, 
        {
            "execution_count": 59, 
            "cell_type": "code", 
            "metadata": {}, 
            "outputs": [], 
            "source": "feat_onehotcode = test_record['Primary Type'].astype(str).str.get_dummies()"
        }, 
        {
            "execution_count": 60, 
            "cell_type": "code", 
            "metadata": {}, 
            "outputs": [], 
            "source": "#set labels for time in a day\ntest_record['hour'] = test_record.index.hour\ntest_record['min'] = test_record.index.minute\ntest_record[\"Business Hour\"] =np.where(test_record['hour'].between(9,17), 1, 0)\n#set labels for day of the week\ntest_record['Day of Week'] = test_record.index.dayofweek\ntest_record[\"Business Day\"] =np.where(test_record['Day of Week'].between(0,4), 1, 0)\n#set day of a month\ntest_record['Day of Month']= test_record.index.day"
        }, 
        {
            "execution_count": 61, 
            "cell_type": "code", 
            "metadata": {}, 
            "outputs": [], 
            "source": "#set labels for crime spaces\nlocation = test_record['Location Description']"
        }, 
        {
            "execution_count": 62, 
            "cell_type": "code", 
            "metadata": {}, 
            "outputs": [], 
            "source": "test_record.loc[:, 'Location Description Number'] =np.where(location.str.contains('RESIDEN')\n                                                      |location.str.contains('APARTMENT'), 1,\n                                                  np.where(location.str.contains('STREET')\n                                                      |location.str.contains('ALLEY')\n                                                      |location.str.contains('SIDEWALK')\n                                                      |location.str.contains('LOT')\n                                                      |location.str.contains('PARK')\n                                                      |location.str.contains('STATION')\n                                                      |location.str.contains('PUBLIC')\n                                                      |location.str.contains('PLATFORM'), 2,\n                                                  np.where(location.str.contains('STORE')\n                                                       |location.str.contains('RESTAURANT')\n                                                       |location.str.contains('SCHOOL')\n                                                       |location.str.contains('BUILDING')\n                                                       |location.str.contains('BAR')\n                                                       |location.str.contains('OFFICE')\n                                                       |location.str.contains('BUS')\n                                                       |location.str.contains('BANK')\n                                                       |location.str.contains('HOTEL')\n                                                       |location.str.contains('TRAIN')\n                                                        |location.str.contains('VEHICLE'), 3, 0)))"
        }, 
        {
            "execution_count": 63, 
            "cell_type": "code", 
            "metadata": {}, 
            "outputs": [
                {
                    "execution_count": 63, 
                    "metadata": {}, 
                    "data": {
                        "text/html": "<div>\n<style scoped>\n    .dataframe tbody tr th:only-of-type {\n        vertical-align: middle;\n    }\n\n    .dataframe tbody tr th {\n        vertical-align: top;\n    }\n\n    .dataframe thead th {\n        text-align: right;\n    }\n</style>\n<table border=\"1\" class=\"dataframe\">\n  <thead>\n    <tr style=\"text-align: right;\">\n      <th></th>\n      <th>Date</th>\n      <th>Primary Type</th>\n      <th>Location Description</th>\n      <th>Community Area</th>\n      <th>Beat</th>\n      <th>District</th>\n      <th>Ward</th>\n      <th>Primary Type in number</th>\n      <th>hour</th>\n      <th>min</th>\n      <th>Business Hour</th>\n      <th>Day of Week</th>\n      <th>Business Day</th>\n      <th>Day of Month</th>\n      <th>Location Description Number</th>\n    </tr>\n    <tr>\n      <th>Date</th>\n      <th></th>\n      <th></th>\n      <th></th>\n      <th></th>\n      <th></th>\n      <th></th>\n      <th></th>\n      <th></th>\n      <th></th>\n      <th></th>\n      <th></th>\n      <th></th>\n      <th></th>\n      <th></th>\n      <th></th>\n    </tr>\n  </thead>\n  <tbody>\n    <tr>\n      <th>2017-01-09 14:00:00</th>\n      <td>2017-01-09 14:00:00</td>\n      <td>THEFT</td>\n      <td>PARKING LOT/GARAGE(NON.RESID.)</td>\n      <td>6.0</td>\n      <td>1924</td>\n      <td>19.0</td>\n      <td>44.0</td>\n      <td>0</td>\n      <td>14</td>\n      <td>0</td>\n      <td>1</td>\n      <td>0</td>\n      <td>1</td>\n      <td>9</td>\n      <td>2</td>\n    </tr>\n  </tbody>\n</table>\n</div>", 
                        "text/plain": "                                   Date Primary Type  \\\nDate                                                   \n2017-01-09 14:00:00 2017-01-09 14:00:00        THEFT   \n\n                               Location Description  Community Area  Beat  \\\nDate                                                                        \n2017-01-09 14:00:00  PARKING LOT/GARAGE(NON.RESID.)             6.0  1924   \n\n                     District  Ward  Primary Type in number  hour  min  \\\nDate                                                                     \n2017-01-09 14:00:00      19.0  44.0                       0    14    0   \n\n                     Business Hour  Day of Week  Business Day  Day of Month  \\\nDate                                                                          \n2017-01-09 14:00:00              1            0             1             9   \n\n                     Location Description Number  \nDate                                              \n2017-01-09 14:00:00                            2  "
                    }, 
                    "output_type": "execute_result"
                }
            ], 
            "source": "test_record"
        }, 
        {
            "execution_count": 64, 
            "cell_type": "code", 
            "metadata": {}, 
            "outputs": [
                {
                    "execution_count": 64, 
                    "metadata": {}, 
                    "data": {
                        "text/html": "<div>\n<style scoped>\n    .dataframe tbody tr th:only-of-type {\n        vertical-align: middle;\n    }\n\n    .dataframe tbody tr th {\n        vertical-align: top;\n    }\n\n    .dataframe thead th {\n        text-align: right;\n    }\n</style>\n<table border=\"1\" class=\"dataframe\">\n  <thead>\n    <tr style=\"text-align: right;\">\n      <th></th>\n      <th>THEFT</th>\n      <th>Date</th>\n      <th>Primary Type in number</th>\n      <th>Community Area</th>\n      <th>hour</th>\n      <th>Day of Week</th>\n      <th>Business Hour</th>\n      <th>Business Day</th>\n      <th>Day of Month</th>\n      <th>Beat</th>\n      <th>District</th>\n      <th>Ward</th>\n    </tr>\n    <tr>\n      <th>Date</th>\n      <th></th>\n      <th></th>\n      <th></th>\n      <th></th>\n      <th></th>\n      <th></th>\n      <th></th>\n      <th></th>\n      <th></th>\n      <th></th>\n      <th></th>\n      <th></th>\n    </tr>\n  </thead>\n  <tbody>\n    <tr>\n      <th>2017-01-09 14:00:00</th>\n      <td>1</td>\n      <td>2017-01-09 14:00:00</td>\n      <td>0</td>\n      <td>6.0</td>\n      <td>14</td>\n      <td>0</td>\n      <td>1</td>\n      <td>1</td>\n      <td>9</td>\n      <td>1924</td>\n      <td>19.0</td>\n      <td>44.0</td>\n    </tr>\n  </tbody>\n</table>\n</div>", 
                        "text/plain": "                     THEFT                Date  Primary Type in number  \\\nDate                                                                     \n2017-01-09 14:00:00      1 2017-01-09 14:00:00                       0   \n\n                     Community Area  hour  Day of Week  Business Hour  \\\nDate                                                                    \n2017-01-09 14:00:00             6.0    14            0              1   \n\n                     Business Day  Day of Month  Beat  District  Ward  \nDate                                                                   \n2017-01-09 14:00:00             1             9  1924      19.0  44.0  "
                    }, 
                    "output_type": "execute_result"
                }
            ], 
            "source": "selected_features = test_record[[\"Date\", \"Primary Type in number\",\n                                \"Community Area\", \"hour\", \"Day of Week\", \"Business Hour\", \"Business Day\",\n                                \"Day of Month\", \"Beat\", \"District\", \"Ward\"]]\nselected_features = pd.concat([feat_onehotcode, selected_features], axis=1)\nselected_features\n\n\n"
        }, 
        {
            "execution_count": 65, 
            "cell_type": "code", 
            "metadata": {}, 
            "outputs": [
                {
                    "execution_count": 65, 
                    "metadata": {}, 
                    "data": {
                        "text/html": "<div>\n<style scoped>\n    .dataframe tbody tr th:only-of-type {\n        vertical-align: middle;\n    }\n\n    .dataframe tbody tr th {\n        vertical-align: top;\n    }\n\n    .dataframe thead th {\n        text-align: right;\n    }\n</style>\n<table border=\"1\" class=\"dataframe\">\n  <thead>\n    <tr style=\"text-align: right;\">\n      <th></th>\n      <th>hour</th>\n      <th>Day of Week</th>\n      <th>Primary Type in number</th>\n      <th>Community Area</th>\n      <th>Business Hour</th>\n      <th>Business Day</th>\n    </tr>\n    <tr>\n      <th>Date</th>\n      <th></th>\n      <th></th>\n      <th></th>\n      <th></th>\n      <th></th>\n      <th></th>\n    </tr>\n  </thead>\n  <tbody>\n    <tr>\n      <th>2017-01-09 14:00:00</th>\n      <td>14</td>\n      <td>0</td>\n      <td>0</td>\n      <td>6.0</td>\n      <td>1</td>\n      <td>1</td>\n    </tr>\n  </tbody>\n</table>\n</div>", 
                        "text/plain": "                     hour  Day of Week  Primary Type in number  \\\nDate                                                             \n2017-01-09 14:00:00    14            0                       0   \n\n                     Community Area  Business Hour  Business Day  \nDate                                                              \n2017-01-09 14:00:00             6.0              1             1  "
                    }, 
                    "output_type": "execute_result"
                }
            ], 
            "source": "features_test = selected_features[[\"hour\", \"Day of Week\", \"Primary Type in number\", \"Community Area\", \"Business Hour\",\n                             \"Business Day\"]]\nfeatures_test"
        }, 
        {
            "source": "## Scoring", 
            "cell_type": "markdown", 
            "metadata": {}
        }, 
        {
            "execution_count": 66, 
            "cell_type": "code", 
            "metadata": {}, 
            "outputs": [], 
            "source": "# The code was removed by Watson Studio for sharing."
        }, 
        {
            "execution_count": 67, 
            "cell_type": "code", 
            "metadata": {}, 
            "outputs": [], 
            "source": "scoring_url='https://us-south.ml.cloud.ibm.com/v3/wml_instances/5bf45d81-7c64-4339-84e9-afb366ef2db8/deployments/24d56b17-ddfd-43da-8445-52c27b33b714/online'"
        }, 
        {
            "execution_count": 68, 
            "cell_type": "code", 
            "metadata": {}, 
            "outputs": [], 
            "source": "import json\na=json.dumps(np.array(features_test.values).tolist())\nb=json.loads(a)"
        }, 
        {
            "execution_count": 70, 
            "cell_type": "code", 
            "metadata": {}, 
            "outputs": [], 
            "source": "#0: OTHER\n#1: APARTMENT, RESINDENCE\n#2: OPEN/PUBLIC SPACES (STREET,ALLEY,SIDEWALK,LOT,PARK,STATION,PUBLIC,PLATFORM)\n#3: CLOSED/CORPORATE PLACES (STORE, RESTUARENT, SCHOOL, BUILDING, BAR, OFFICE, BUS, BANK, HOTEL, TRAIN, VEHICLE) \n"
        }, 
        {
            "execution_count": 71, 
            "cell_type": "code", 
            "metadata": {}, 
            "outputs": [
                {
                    "output_type": "stream", 
                    "name": "stdout", 
                    "text": "{'values': [[14.0, 0.0, 0.0, 6.0, 1.0, 1.0]]}\nScoring result: {'fields': ['prediction', 'prediction_classes', 'probability'], 'values': [[[1.4448665751842782e-05, 0.28973039984703064, 0.4399290680885315, 0.2703261077404022], 2, [1.4448665751842782e-05, 0.28973039984703064, 0.4399290680885315, 0.2703261077404022]]]}\n"
                }
            ], 
            "source": "import json\nscoring_data = {'values':b}\nprint (scoring_data)\npredictions = wml_client.deployments.score(scoring_url, scoring_data)\nprint(\"Scoring result: \" + str(predictions))"
        }, 
        {
            "source": "The project have much more further scope of exploration and potential of exploring different aspects of the problems like, crime rates, specific crime types given specific locations.", 
            "cell_type": "markdown", 
            "metadata": {}
        }
    ], 
    "metadata": {
        "kernelspec": {
            "display_name": "Python 3.5 with Spark 2.1", 
            "name": "python3-spark21", 
            "language": "python"
        }, 
        "language_info": {
            "mimetype": "text/x-python", 
            "nbconvert_exporter": "python", 
            "version": "3.5.4", 
            "name": "python", 
            "file_extension": ".py", 
            "pygments_lexer": "ipython3", 
            "codemirror_mode": {
                "version": 3, 
                "name": "ipython"
            }
        }
    }, 
    "nbformat": 4
}