{
    "nbformat_minor": 1, 
    "cells": [
        {
            "execution_count": 49, 
            "cell_type": "code", 
            "metadata": {}, 
            "outputs": [], 
            "source": "# The code was removed by Watson Studio for sharing."
        }, 
        {
            "execution_count": 93, 
            "cell_type": "code", 
            "metadata": {}, 
            "outputs": [], 
            "source": "import numpy as np\nimport pandas as pd\nfrom sklearn import preprocessing\nimport matplotlib.pyplot as plt\n%matplotlib inline\nplt.style.use('seaborn')\nfrom IPython.display import display"
        }, 
        {
            "execution_count": 95, 
            "cell_type": "code", 
            "metadata": {}, 
            "outputs": [], 
            "source": "# The code was removed by Watson Studio for sharing."
        }, 
        {
            "execution_count": 94, 
            "cell_type": "code", 
            "metadata": {}, 
            "outputs": [
                {
                    "output_type": "stream", 
                    "name": "stderr", 
                    "text": "b'Skipping line 533719: expected 23 fields, saw 24\\n'\n"
                }, 
                {
                    "execution_count": 94, 
                    "metadata": {}, 
                    "data": {
                        "text/html": "<div>\n<style scoped>\n    .dataframe tbody tr th:only-of-type {\n        vertical-align: middle;\n    }\n\n    .dataframe tbody tr th {\n        vertical-align: top;\n    }\n\n    .dataframe thead th {\n        text-align: right;\n    }\n</style>\n<table border=\"1\" class=\"dataframe\">\n  <thead>\n    <tr style=\"text-align: right;\">\n      <th></th>\n      <th>Unnamed: 0</th>\n      <th>ID</th>\n      <th>Case Number</th>\n      <th>Date</th>\n      <th>Block</th>\n      <th>IUCR</th>\n      <th>Primary Type</th>\n      <th>Description</th>\n      <th>Location Description</th>\n      <th>Arrest</th>\n      <th>...</th>\n      <th>Ward</th>\n      <th>Community Area</th>\n      <th>FBI Code</th>\n      <th>X Coordinate</th>\n      <th>Y Coordinate</th>\n      <th>Year</th>\n      <th>Updated On</th>\n      <th>Latitude</th>\n      <th>Longitude</th>\n      <th>Location</th>\n    </tr>\n  </thead>\n  <tbody>\n    <tr>\n      <th>0</th>\n      <td>0</td>\n      <td>4673626</td>\n      <td>HM274058</td>\n      <td>04/02/2006 01:00:00 PM</td>\n      <td>055XX N MANGO AVE</td>\n      <td>2825</td>\n      <td>OTHER OFFENSE</td>\n      <td>HARASSMENT BY TELEPHONE</td>\n      <td>RESIDENCE</td>\n      <td>False</td>\n      <td>...</td>\n      <td>45.0</td>\n      <td>11.0</td>\n      <td>26</td>\n      <td>1136872.0</td>\n      <td>1936499.0</td>\n      <td>2006</td>\n      <td>04/15/2016 08:55:02 AM</td>\n      <td>41.981913</td>\n      <td>-87.771996</td>\n      <td>(41.981912692, -87.771996382)</td>\n    </tr>\n    <tr>\n      <th>1</th>\n      <td>1</td>\n      <td>4673627</td>\n      <td>HM202199</td>\n      <td>02/26/2006 01:40:48 PM</td>\n      <td>065XX S RHODES AVE</td>\n      <td>2017</td>\n      <td>NARCOTICS</td>\n      <td>MANU/DELIVER:CRACK</td>\n      <td>SIDEWALK</td>\n      <td>True</td>\n      <td>...</td>\n      <td>20.0</td>\n      <td>42.0</td>\n      <td>18</td>\n      <td>1181027.0</td>\n      <td>1861693.0</td>\n      <td>2006</td>\n      <td>04/15/2016 08:55:02 AM</td>\n      <td>41.775733</td>\n      <td>-87.611920</td>\n      <td>(41.775732538, -87.611919814)</td>\n    </tr>\n    <tr>\n      <th>2</th>\n      <td>2</td>\n      <td>4673628</td>\n      <td>HM113861</td>\n      <td>01/08/2006 11:16:00 PM</td>\n      <td>013XX E 69TH ST</td>\n      <td>051A</td>\n      <td>ASSAULT</td>\n      <td>AGGRAVATED: HANDGUN</td>\n      <td>OTHER</td>\n      <td>False</td>\n      <td>...</td>\n      <td>5.0</td>\n      <td>69.0</td>\n      <td>04A</td>\n      <td>1186023.0</td>\n      <td>1859609.0</td>\n      <td>2006</td>\n      <td>04/15/2016 08:55:02 AM</td>\n      <td>41.769897</td>\n      <td>-87.593671</td>\n      <td>(41.769897392, -87.593670899)</td>\n    </tr>\n    <tr>\n      <th>3</th>\n      <td>4</td>\n      <td>4673629</td>\n      <td>HM274049</td>\n      <td>04/05/2006 06:45:00 PM</td>\n      <td>061XX W NEWPORT AVE</td>\n      <td>0460</td>\n      <td>BATTERY</td>\n      <td>SIMPLE</td>\n      <td>RESIDENCE</td>\n      <td>False</td>\n      <td>...</td>\n      <td>38.0</td>\n      <td>17.0</td>\n      <td>08B</td>\n      <td>1134772.0</td>\n      <td>1922299.0</td>\n      <td>2006</td>\n      <td>04/15/2016 08:55:02 AM</td>\n      <td>41.942984</td>\n      <td>-87.780057</td>\n      <td>(41.942984005, -87.780056951)</td>\n    </tr>\n    <tr>\n      <th>4</th>\n      <td>5</td>\n      <td>4673630</td>\n      <td>HM187120</td>\n      <td>02/17/2006 09:03:14 PM</td>\n      <td>037XX W 60TH ST</td>\n      <td>1811</td>\n      <td>NARCOTICS</td>\n      <td>POSS: CANNABIS 30GMS OR LESS</td>\n      <td>ALLEY</td>\n      <td>True</td>\n      <td>...</td>\n      <td>13.0</td>\n      <td>65.0</td>\n      <td>18</td>\n      <td>1152412.0</td>\n      <td>1864560.0</td>\n      <td>2006</td>\n      <td>04/15/2016 08:55:02 AM</td>\n      <td>41.784211</td>\n      <td>-87.716745</td>\n      <td>(41.784210853, -87.71674491)</td>\n    </tr>\n  </tbody>\n</table>\n<p>5 rows \u00d7 23 columns</p>\n</div>", 
                        "text/plain": "   Unnamed: 0       ID Case Number                    Date  \\\n0           0  4673626    HM274058  04/02/2006 01:00:00 PM   \n1           1  4673627    HM202199  02/26/2006 01:40:48 PM   \n2           2  4673628    HM113861  01/08/2006 11:16:00 PM   \n3           4  4673629    HM274049  04/05/2006 06:45:00 PM   \n4           5  4673630    HM187120  02/17/2006 09:03:14 PM   \n\n                 Block  IUCR   Primary Type                   Description  \\\n0    055XX N MANGO AVE  2825  OTHER OFFENSE       HARASSMENT BY TELEPHONE   \n1   065XX S RHODES AVE  2017      NARCOTICS            MANU/DELIVER:CRACK   \n2      013XX E 69TH ST  051A        ASSAULT           AGGRAVATED: HANDGUN   \n3  061XX W NEWPORT AVE  0460        BATTERY                        SIMPLE   \n4      037XX W 60TH ST  1811      NARCOTICS  POSS: CANNABIS 30GMS OR LESS   \n\n  Location Description  Arrest              ...                Ward  \\\n0            RESIDENCE   False              ...                45.0   \n1             SIDEWALK    True              ...                20.0   \n2                OTHER   False              ...                 5.0   \n3            RESIDENCE   False              ...                38.0   \n4                ALLEY    True              ...                13.0   \n\n   Community Area  FBI Code  X Coordinate  Y Coordinate  Year  \\\n0            11.0        26     1136872.0     1936499.0  2006   \n1            42.0        18     1181027.0     1861693.0  2006   \n2            69.0       04A     1186023.0     1859609.0  2006   \n3            17.0       08B     1134772.0     1922299.0  2006   \n4            65.0        18     1152412.0     1864560.0  2006   \n\n               Updated On   Latitude  Longitude                       Location  \n0  04/15/2016 08:55:02 AM  41.981913 -87.771996  (41.981912692, -87.771996382)  \n1  04/15/2016 08:55:02 AM  41.775733 -87.611920  (41.775732538, -87.611919814)  \n2  04/15/2016 08:55:02 AM  41.769897 -87.593671  (41.769897392, -87.593670899)  \n3  04/15/2016 08:55:02 AM  41.942984 -87.780057  (41.942984005, -87.780056951)  \n4  04/15/2016 08:55:02 AM  41.784211 -87.716745   (41.784210853, -87.71674491)  \n\n[5 rows x 23 columns]"
                    }, 
                    "output_type": "execute_result"
                }
            ], 
            "source": "body = client_57b5eb6e7b5d4b90a8e83736129c9010.get_object(Bucket='crimeprediction-donotdelete-pr-8fcnvmlkxwdbol',Key='Chicago_Crimes_2005_to_2007.csv')['Body']\n# add missing __iter__ method, so pandas accepts body as file-like object\nif not hasattr(body, \"__iter__\"): body.__iter__ = types.MethodType( __iter__, body )\n\ncdata05_07 = pd.read_csv(body,error_bad_lines=False)\ncdata05_07.head()"
        }, 
        {
            "execution_count": 52, 
            "cell_type": "code", 
            "metadata": {}, 
            "outputs": [
                {
                    "output_type": "stream", 
                    "name": "stderr", 
                    "text": "b'Skipping line 1149094: expected 23 fields, saw 41\\n'\n"
                }, 
                {
                    "execution_count": 52, 
                    "metadata": {}, 
                    "data": {
                        "text/html": "<div>\n<style scoped>\n    .dataframe tbody tr th:only-of-type {\n        vertical-align: middle;\n    }\n\n    .dataframe tbody tr th {\n        vertical-align: top;\n    }\n\n    .dataframe thead th {\n        text-align: right;\n    }\n</style>\n<table border=\"1\" class=\"dataframe\">\n  <thead>\n    <tr style=\"text-align: right;\">\n      <th></th>\n      <th>Unnamed: 0</th>\n      <th>ID</th>\n      <th>Case Number</th>\n      <th>Date</th>\n      <th>Block</th>\n      <th>IUCR</th>\n      <th>Primary Type</th>\n      <th>Description</th>\n      <th>Location Description</th>\n      <th>Arrest</th>\n      <th>...</th>\n      <th>Ward</th>\n      <th>Community Area</th>\n      <th>FBI Code</th>\n      <th>X Coordinate</th>\n      <th>Y Coordinate</th>\n      <th>Year</th>\n      <th>Updated On</th>\n      <th>Latitude</th>\n      <th>Longitude</th>\n      <th>Location</th>\n    </tr>\n  </thead>\n  <tbody>\n    <tr>\n      <th>0</th>\n      <td>388</td>\n      <td>4785</td>\n      <td>HP610824</td>\n      <td>10/07/2008 12:39:00 PM</td>\n      <td>000XX E 75TH ST</td>\n      <td>0110</td>\n      <td>HOMICIDE</td>\n      <td>FIRST DEGREE MURDER</td>\n      <td>ALLEY</td>\n      <td>True</td>\n      <td>...</td>\n      <td>6.0</td>\n      <td>69.0</td>\n      <td>01A</td>\n      <td>1178207.0</td>\n      <td>1855308.0</td>\n      <td>2008</td>\n      <td>08/17/2015 03:03:40 PM</td>\n      <td>41.758276</td>\n      <td>-87.622451</td>\n      <td>(41.758275857, -87.622451031)</td>\n    </tr>\n    <tr>\n      <th>1</th>\n      <td>835</td>\n      <td>4786</td>\n      <td>HP616595</td>\n      <td>10/09/2008 03:30:00 AM</td>\n      <td>048XX W POLK ST</td>\n      <td>0110</td>\n      <td>HOMICIDE</td>\n      <td>FIRST DEGREE MURDER</td>\n      <td>STREET</td>\n      <td>True</td>\n      <td>...</td>\n      <td>24.0</td>\n      <td>25.0</td>\n      <td>01A</td>\n      <td>1144200.0</td>\n      <td>1895857.0</td>\n      <td>2008</td>\n      <td>08/17/2015 03:03:40 PM</td>\n      <td>41.870252</td>\n      <td>-87.746069</td>\n      <td>(41.87025207, -87.746069362)</td>\n    </tr>\n    <tr>\n      <th>2</th>\n      <td>1334</td>\n      <td>4787</td>\n      <td>HP616904</td>\n      <td>10/09/2008 08:35:00 AM</td>\n      <td>030XX W MANN DR</td>\n      <td>0110</td>\n      <td>HOMICIDE</td>\n      <td>FIRST DEGREE MURDER</td>\n      <td>PARK PROPERTY</td>\n      <td>False</td>\n      <td>...</td>\n      <td>18.0</td>\n      <td>66.0</td>\n      <td>01A</td>\n      <td>1157314.0</td>\n      <td>1859778.0</td>\n      <td>2008</td>\n      <td>08/17/2015 03:03:40 PM</td>\n      <td>41.770990</td>\n      <td>-87.698901</td>\n      <td>(41.770990476, -87.698901469)</td>\n    </tr>\n    <tr>\n      <th>3</th>\n      <td>1907</td>\n      <td>4788</td>\n      <td>HP618616</td>\n      <td>10/10/2008 02:33:00 AM</td>\n      <td>052XX W CHICAGO AVE</td>\n      <td>0110</td>\n      <td>HOMICIDE</td>\n      <td>FIRST DEGREE MURDER</td>\n      <td>RESTAURANT</td>\n      <td>False</td>\n      <td>...</td>\n      <td>37.0</td>\n      <td>25.0</td>\n      <td>01A</td>\n      <td>1141065.0</td>\n      <td>1904824.0</td>\n      <td>2008</td>\n      <td>08/17/2015 03:03:40 PM</td>\n      <td>41.894917</td>\n      <td>-87.757358</td>\n      <td>(41.894916924, -87.757358147)</td>\n    </tr>\n    <tr>\n      <th>4</th>\n      <td>2436</td>\n      <td>4789</td>\n      <td>HP619020</td>\n      <td>10/10/2008 12:50:00 PM</td>\n      <td>026XX S HOMAN AVE</td>\n      <td>0110</td>\n      <td>HOMICIDE</td>\n      <td>FIRST DEGREE MURDER</td>\n      <td>GARAGE</td>\n      <td>False</td>\n      <td>...</td>\n      <td>22.0</td>\n      <td>30.0</td>\n      <td>01A</td>\n      <td>1154123.0</td>\n      <td>1886297.0</td>\n      <td>2008</td>\n      <td>08/17/2015 03:03:40 PM</td>\n      <td>41.843826</td>\n      <td>-87.709893</td>\n      <td>(41.843826272, -87.709893465)</td>\n    </tr>\n  </tbody>\n</table>\n<p>5 rows \u00d7 23 columns</p>\n</div>", 
                        "text/plain": "   Unnamed: 0    ID Case Number                    Date                Block  \\\n0         388  4785    HP610824  10/07/2008 12:39:00 PM      000XX E 75TH ST   \n1         835  4786    HP616595  10/09/2008 03:30:00 AM      048XX W POLK ST   \n2        1334  4787    HP616904  10/09/2008 08:35:00 AM      030XX W MANN DR   \n3        1907  4788    HP618616  10/10/2008 02:33:00 AM  052XX W CHICAGO AVE   \n4        2436  4789    HP619020  10/10/2008 12:50:00 PM    026XX S HOMAN AVE   \n\n   IUCR Primary Type          Description Location Description  Arrest  \\\n0  0110     HOMICIDE  FIRST DEGREE MURDER                ALLEY    True   \n1  0110     HOMICIDE  FIRST DEGREE MURDER               STREET    True   \n2  0110     HOMICIDE  FIRST DEGREE MURDER        PARK PROPERTY   False   \n3  0110     HOMICIDE  FIRST DEGREE MURDER           RESTAURANT   False   \n4  0110     HOMICIDE  FIRST DEGREE MURDER               GARAGE   False   \n\n               ...                Ward  Community Area  FBI Code  \\\n0              ...                 6.0            69.0       01A   \n1              ...                24.0            25.0       01A   \n2              ...                18.0            66.0       01A   \n3              ...                37.0            25.0       01A   \n4              ...                22.0            30.0       01A   \n\n   X Coordinate  Y Coordinate  Year              Updated On   Latitude  \\\n0     1178207.0     1855308.0  2008  08/17/2015 03:03:40 PM  41.758276   \n1     1144200.0     1895857.0  2008  08/17/2015 03:03:40 PM  41.870252   \n2     1157314.0     1859778.0  2008  08/17/2015 03:03:40 PM  41.770990   \n3     1141065.0     1904824.0  2008  08/17/2015 03:03:40 PM  41.894917   \n4     1154123.0     1886297.0  2008  08/17/2015 03:03:40 PM  41.843826   \n\n   Longitude                       Location  \n0 -87.622451  (41.758275857, -87.622451031)  \n1 -87.746069   (41.87025207, -87.746069362)  \n2 -87.698901  (41.770990476, -87.698901469)  \n3 -87.757358  (41.894916924, -87.757358147)  \n4 -87.709893  (41.843826272, -87.709893465)  \n\n[5 rows x 23 columns]"
                    }, 
                    "output_type": "execute_result"
                }
            ], 
            "source": "body = client_57b5eb6e7b5d4b90a8e83736129c9010.get_object(Bucket='crimeprediction-donotdelete-pr-8fcnvmlkxwdbol',Key='Chicago_Crimes_2008_to_2011.csv')['Body']\n# add missing __iter__ method, so pandas accepts body as file-like object\nif not hasattr(body, \"__iter__\"): body.__iter__ = types.MethodType( __iter__, body )\n\ncdata08_11 = pd.read_csv(body,error_bad_lines=False)\ncdata08_11.head()"
        }, 
        {
            "execution_count": 53, 
            "cell_type": "code", 
            "metadata": {}, 
            "outputs": [
                {
                    "execution_count": 53, 
                    "metadata": {}, 
                    "data": {
                        "text/html": "<div>\n<style scoped>\n    .dataframe tbody tr th:only-of-type {\n        vertical-align: middle;\n    }\n\n    .dataframe tbody tr th {\n        vertical-align: top;\n    }\n\n    .dataframe thead th {\n        text-align: right;\n    }\n</style>\n<table border=\"1\" class=\"dataframe\">\n  <thead>\n    <tr style=\"text-align: right;\">\n      <th></th>\n      <th>Unnamed: 0</th>\n      <th>ID</th>\n      <th>Case Number</th>\n      <th>Date</th>\n      <th>Block</th>\n      <th>IUCR</th>\n      <th>Primary Type</th>\n      <th>Description</th>\n      <th>Location Description</th>\n      <th>Arrest</th>\n      <th>...</th>\n      <th>Ward</th>\n      <th>Community Area</th>\n      <th>FBI Code</th>\n      <th>X Coordinate</th>\n      <th>Y Coordinate</th>\n      <th>Year</th>\n      <th>Updated On</th>\n      <th>Latitude</th>\n      <th>Longitude</th>\n      <th>Location</th>\n    </tr>\n  </thead>\n  <tbody>\n    <tr>\n      <th>0</th>\n      <td>3</td>\n      <td>10508693</td>\n      <td>HZ250496</td>\n      <td>05/03/2016 11:40:00 PM</td>\n      <td>013XX S SAWYER AVE</td>\n      <td>0486</td>\n      <td>BATTERY</td>\n      <td>DOMESTIC BATTERY SIMPLE</td>\n      <td>APARTMENT</td>\n      <td>True</td>\n      <td>...</td>\n      <td>24.0</td>\n      <td>29.0</td>\n      <td>08B</td>\n      <td>1154907.0</td>\n      <td>1893681.0</td>\n      <td>2016</td>\n      <td>05/10/2016 03:56:50 PM</td>\n      <td>41.864073</td>\n      <td>-87.706819</td>\n      <td>(41.864073157, -87.706818608)</td>\n    </tr>\n    <tr>\n      <th>1</th>\n      <td>89</td>\n      <td>10508695</td>\n      <td>HZ250409</td>\n      <td>05/03/2016 09:40:00 PM</td>\n      <td>061XX S DREXEL AVE</td>\n      <td>0486</td>\n      <td>BATTERY</td>\n      <td>DOMESTIC BATTERY SIMPLE</td>\n      <td>RESIDENCE</td>\n      <td>False</td>\n      <td>...</td>\n      <td>20.0</td>\n      <td>42.0</td>\n      <td>08B</td>\n      <td>1183066.0</td>\n      <td>1864330.0</td>\n      <td>2016</td>\n      <td>05/10/2016 03:56:50 PM</td>\n      <td>41.782922</td>\n      <td>-87.604363</td>\n      <td>(41.782921527, -87.60436317)</td>\n    </tr>\n    <tr>\n      <th>2</th>\n      <td>197</td>\n      <td>10508697</td>\n      <td>HZ250503</td>\n      <td>05/03/2016 11:31:00 PM</td>\n      <td>053XX W CHICAGO AVE</td>\n      <td>0470</td>\n      <td>PUBLIC PEACE VIOLATION</td>\n      <td>RECKLESS CONDUCT</td>\n      <td>STREET</td>\n      <td>False</td>\n      <td>...</td>\n      <td>37.0</td>\n      <td>25.0</td>\n      <td>24</td>\n      <td>1140789.0</td>\n      <td>1904819.0</td>\n      <td>2016</td>\n      <td>05/10/2016 03:56:50 PM</td>\n      <td>41.894908</td>\n      <td>-87.758372</td>\n      <td>(41.894908283, -87.758371958)</td>\n    </tr>\n    <tr>\n      <th>3</th>\n      <td>673</td>\n      <td>10508698</td>\n      <td>HZ250424</td>\n      <td>05/03/2016 10:10:00 PM</td>\n      <td>049XX W FULTON ST</td>\n      <td>0460</td>\n      <td>BATTERY</td>\n      <td>SIMPLE</td>\n      <td>SIDEWALK</td>\n      <td>False</td>\n      <td>...</td>\n      <td>28.0</td>\n      <td>25.0</td>\n      <td>08B</td>\n      <td>1143223.0</td>\n      <td>1901475.0</td>\n      <td>2016</td>\n      <td>05/10/2016 03:56:50 PM</td>\n      <td>41.885687</td>\n      <td>-87.749516</td>\n      <td>(41.885686845, -87.749515983)</td>\n    </tr>\n    <tr>\n      <th>4</th>\n      <td>911</td>\n      <td>10508699</td>\n      <td>HZ250455</td>\n      <td>05/03/2016 10:00:00 PM</td>\n      <td>003XX N LOTUS AVE</td>\n      <td>0820</td>\n      <td>THEFT</td>\n      <td>$500 AND UNDER</td>\n      <td>RESIDENCE</td>\n      <td>False</td>\n      <td>...</td>\n      <td>28.0</td>\n      <td>25.0</td>\n      <td>06</td>\n      <td>1139890.0</td>\n      <td>1901675.0</td>\n      <td>2016</td>\n      <td>05/10/2016 03:56:50 PM</td>\n      <td>41.886297</td>\n      <td>-87.761751</td>\n      <td>(41.886297242, -87.761750709)</td>\n    </tr>\n  </tbody>\n</table>\n<p>5 rows \u00d7 23 columns</p>\n</div>", 
                        "text/plain": "   Unnamed: 0        ID Case Number                    Date  \\\n0           3  10508693    HZ250496  05/03/2016 11:40:00 PM   \n1          89  10508695    HZ250409  05/03/2016 09:40:00 PM   \n2         197  10508697    HZ250503  05/03/2016 11:31:00 PM   \n3         673  10508698    HZ250424  05/03/2016 10:10:00 PM   \n4         911  10508699    HZ250455  05/03/2016 10:00:00 PM   \n\n                 Block  IUCR            Primary Type              Description  \\\n0   013XX S SAWYER AVE  0486                 BATTERY  DOMESTIC BATTERY SIMPLE   \n1   061XX S DREXEL AVE  0486                 BATTERY  DOMESTIC BATTERY SIMPLE   \n2  053XX W CHICAGO AVE  0470  PUBLIC PEACE VIOLATION         RECKLESS CONDUCT   \n3    049XX W FULTON ST  0460                 BATTERY                   SIMPLE   \n4    003XX N LOTUS AVE  0820                   THEFT           $500 AND UNDER   \n\n  Location Description  Arrest              ...                Ward  \\\n0            APARTMENT    True              ...                24.0   \n1            RESIDENCE   False              ...                20.0   \n2               STREET   False              ...                37.0   \n3             SIDEWALK   False              ...                28.0   \n4            RESIDENCE   False              ...                28.0   \n\n   Community Area  FBI Code  X Coordinate  Y Coordinate  Year  \\\n0            29.0       08B     1154907.0     1893681.0  2016   \n1            42.0       08B     1183066.0     1864330.0  2016   \n2            25.0        24     1140789.0     1904819.0  2016   \n3            25.0       08B     1143223.0     1901475.0  2016   \n4            25.0        06     1139890.0     1901675.0  2016   \n\n               Updated On   Latitude  Longitude                       Location  \n0  05/10/2016 03:56:50 PM  41.864073 -87.706819  (41.864073157, -87.706818608)  \n1  05/10/2016 03:56:50 PM  41.782922 -87.604363   (41.782921527, -87.60436317)  \n2  05/10/2016 03:56:50 PM  41.894908 -87.758372  (41.894908283, -87.758371958)  \n3  05/10/2016 03:56:50 PM  41.885687 -87.749516  (41.885686845, -87.749515983)  \n4  05/10/2016 03:56:50 PM  41.886297 -87.761751  (41.886297242, -87.761750709)  \n\n[5 rows x 23 columns]"
                    }, 
                    "output_type": "execute_result"
                }
            ], 
            "source": "body = client_57b5eb6e7b5d4b90a8e83736129c9010.get_object(Bucket='crimeprediction-donotdelete-pr-8fcnvmlkxwdbol',Key='Chicago_Crimes_2012_to_2017.csv')['Body']\n# add missing __iter__ method, so pandas accepts body as file-like object\nif not hasattr(body, \"__iter__\"): body.__iter__ = types.MethodType( __iter__, body )\n\ncdata12_17 = pd.read_csv(body)\ncdata12_17.head()"
        }, 
        {
            "execution_count": 54, 
            "cell_type": "code", 
            "metadata": {}, 
            "outputs": [
                {
                    "output_type": "stream", 
                    "name": "stdout", 
                    "text": "Dataset from 05 to 07 is: (1872343, 23)\nDataset from 05 to 07 is: (2688710, 23)\nDataset from 05 to 07 is: (1456714, 23)\n"
                }
            ], 
            "source": "crimes05_17 = pd.concat([cdata05_07, cdata08_11, cdata12_17], axis=0)\nprint(\"Dataset from 05 to 07 is:\", cdata05_07.shape)\nprint(\"Dataset from 05 to 07 is:\", cdata08_11.shape)\nprint(\"Dataset from 05 to 07 is:\", cdata12_17.shape)"
        }, 
        {
            "execution_count": 55, 
            "cell_type": "code", 
            "metadata": {}, 
            "outputs": [
                {
                    "output_type": "stream", 
                    "name": "stdout", 
                    "text": "data before find duplication: (6017767, 23)\ndata after find duplication: (4336556, 23)\n"
                }, 
                {
                    "execution_count": 55, 
                    "metadata": {}, 
                    "data": {
                        "text/html": "<div>\n<style scoped>\n    .dataframe tbody tr th:only-of-type {\n        vertical-align: middle;\n    }\n\n    .dataframe tbody tr th {\n        vertical-align: top;\n    }\n\n    .dataframe thead th {\n        text-align: right;\n    }\n</style>\n<table border=\"1\" class=\"dataframe\">\n  <thead>\n    <tr style=\"text-align: right;\">\n      <th></th>\n      <th>Unnamed: 0</th>\n      <th>ID</th>\n      <th>Case Number</th>\n      <th>Date</th>\n      <th>Block</th>\n      <th>IUCR</th>\n      <th>Primary Type</th>\n      <th>Description</th>\n      <th>Location Description</th>\n      <th>Arrest</th>\n      <th>...</th>\n      <th>Ward</th>\n      <th>Community Area</th>\n      <th>FBI Code</th>\n      <th>X Coordinate</th>\n      <th>Y Coordinate</th>\n      <th>Year</th>\n      <th>Updated On</th>\n      <th>Latitude</th>\n      <th>Longitude</th>\n      <th>Location</th>\n    </tr>\n  </thead>\n  <tbody>\n    <tr>\n      <th>0</th>\n      <td>0</td>\n      <td>4673626</td>\n      <td>HM274058</td>\n      <td>04/02/2006 01:00:00 PM</td>\n      <td>055XX N MANGO AVE</td>\n      <td>2825</td>\n      <td>OTHER OFFENSE</td>\n      <td>HARASSMENT BY TELEPHONE</td>\n      <td>RESIDENCE</td>\n      <td>False</td>\n      <td>...</td>\n      <td>45.0</td>\n      <td>11.0</td>\n      <td>26</td>\n      <td>1136872.0</td>\n      <td>1936499.0</td>\n      <td>2006</td>\n      <td>04/15/2016 08:55:02 AM</td>\n      <td>41.981913</td>\n      <td>-87.771996</td>\n      <td>(41.981912692, -87.771996382)</td>\n    </tr>\n    <tr>\n      <th>1</th>\n      <td>1</td>\n      <td>4673627</td>\n      <td>HM202199</td>\n      <td>02/26/2006 01:40:48 PM</td>\n      <td>065XX S RHODES AVE</td>\n      <td>2017</td>\n      <td>NARCOTICS</td>\n      <td>MANU/DELIVER:CRACK</td>\n      <td>SIDEWALK</td>\n      <td>True</td>\n      <td>...</td>\n      <td>20.0</td>\n      <td>42.0</td>\n      <td>18</td>\n      <td>1181027.0</td>\n      <td>1861693.0</td>\n      <td>2006</td>\n      <td>04/15/2016 08:55:02 AM</td>\n      <td>41.775733</td>\n      <td>-87.611920</td>\n      <td>(41.775732538, -87.611919814)</td>\n    </tr>\n    <tr>\n      <th>2</th>\n      <td>2</td>\n      <td>4673628</td>\n      <td>HM113861</td>\n      <td>01/08/2006 11:16:00 PM</td>\n      <td>013XX E 69TH ST</td>\n      <td>051A</td>\n      <td>ASSAULT</td>\n      <td>AGGRAVATED: HANDGUN</td>\n      <td>OTHER</td>\n      <td>False</td>\n      <td>...</td>\n      <td>5.0</td>\n      <td>69.0</td>\n      <td>04A</td>\n      <td>1186023.0</td>\n      <td>1859609.0</td>\n      <td>2006</td>\n      <td>04/15/2016 08:55:02 AM</td>\n      <td>41.769897</td>\n      <td>-87.593671</td>\n      <td>(41.769897392, -87.593670899)</td>\n    </tr>\n    <tr>\n      <th>3</th>\n      <td>4</td>\n      <td>4673629</td>\n      <td>HM274049</td>\n      <td>04/05/2006 06:45:00 PM</td>\n      <td>061XX W NEWPORT AVE</td>\n      <td>0460</td>\n      <td>BATTERY</td>\n      <td>SIMPLE</td>\n      <td>RESIDENCE</td>\n      <td>False</td>\n      <td>...</td>\n      <td>38.0</td>\n      <td>17.0</td>\n      <td>08B</td>\n      <td>1134772.0</td>\n      <td>1922299.0</td>\n      <td>2006</td>\n      <td>04/15/2016 08:55:02 AM</td>\n      <td>41.942984</td>\n      <td>-87.780057</td>\n      <td>(41.942984005, -87.780056951)</td>\n    </tr>\n    <tr>\n      <th>4</th>\n      <td>5</td>\n      <td>4673630</td>\n      <td>HM187120</td>\n      <td>02/17/2006 09:03:14 PM</td>\n      <td>037XX W 60TH ST</td>\n      <td>1811</td>\n      <td>NARCOTICS</td>\n      <td>POSS: CANNABIS 30GMS OR LESS</td>\n      <td>ALLEY</td>\n      <td>True</td>\n      <td>...</td>\n      <td>13.0</td>\n      <td>65.0</td>\n      <td>18</td>\n      <td>1152412.0</td>\n      <td>1864560.0</td>\n      <td>2006</td>\n      <td>04/15/2016 08:55:02 AM</td>\n      <td>41.784211</td>\n      <td>-87.716745</td>\n      <td>(41.784210853, -87.71674491)</td>\n    </tr>\n  </tbody>\n</table>\n<p>5 rows \u00d7 23 columns</p>\n</div>", 
                        "text/plain": "   Unnamed: 0       ID Case Number                    Date  \\\n0           0  4673626    HM274058  04/02/2006 01:00:00 PM   \n1           1  4673627    HM202199  02/26/2006 01:40:48 PM   \n2           2  4673628    HM113861  01/08/2006 11:16:00 PM   \n3           4  4673629    HM274049  04/05/2006 06:45:00 PM   \n4           5  4673630    HM187120  02/17/2006 09:03:14 PM   \n\n                 Block  IUCR   Primary Type                   Description  \\\n0    055XX N MANGO AVE  2825  OTHER OFFENSE       HARASSMENT BY TELEPHONE   \n1   065XX S RHODES AVE  2017      NARCOTICS            MANU/DELIVER:CRACK   \n2      013XX E 69TH ST  051A        ASSAULT           AGGRAVATED: HANDGUN   \n3  061XX W NEWPORT AVE  0460        BATTERY                        SIMPLE   \n4      037XX W 60TH ST  1811      NARCOTICS  POSS: CANNABIS 30GMS OR LESS   \n\n  Location Description  Arrest              ...                Ward  \\\n0            RESIDENCE   False              ...                45.0   \n1             SIDEWALK    True              ...                20.0   \n2                OTHER   False              ...                 5.0   \n3            RESIDENCE   False              ...                38.0   \n4                ALLEY    True              ...                13.0   \n\n   Community Area  FBI Code  X Coordinate  Y Coordinate  Year  \\\n0            11.0        26     1136872.0     1936499.0  2006   \n1            42.0        18     1181027.0     1861693.0  2006   \n2            69.0       04A     1186023.0     1859609.0  2006   \n3            17.0       08B     1134772.0     1922299.0  2006   \n4            65.0        18     1152412.0     1864560.0  2006   \n\n               Updated On   Latitude  Longitude                       Location  \n0  04/15/2016 08:55:02 AM  41.981913 -87.771996  (41.981912692, -87.771996382)  \n1  04/15/2016 08:55:02 AM  41.775733 -87.611920  (41.775732538, -87.611919814)  \n2  04/15/2016 08:55:02 AM  41.769897 -87.593671  (41.769897392, -87.593670899)  \n3  04/15/2016 08:55:02 AM  41.942984 -87.780057  (41.942984005, -87.780056951)  \n4  04/15/2016 08:55:02 AM  41.784211 -87.716745   (41.784210853, -87.71674491)  \n\n[5 rows x 23 columns]"
                    }, 
                    "output_type": "execute_result"
                }
            ], 
            "source": "print (\"data before find duplication:\", crimes05_17.shape)\ncrimes05_17.drop_duplicates(subset=['ID', 'Case Number'], inplace=True)\nprint (\"data after find duplication:\", crimes05_17.shape)\ncrimes05_17.head()"
        }, 
        {
            "execution_count": 57, 
            "cell_type": "code", 
            "metadata": {}, 
            "outputs": [], 
            "source": "## Date formatting"
        }, 
        {
            "execution_count": 56, 
            "cell_type": "code", 
            "metadata": {}, 
            "outputs": [], 
            "source": "crimes05_17.Date = pd.to_datetime(crimes05_17.Date, format='%m/%d/%Y %I:%M:%S %p')"
        }, 
        {
            "execution_count": 58, 
            "cell_type": "code", 
            "metadata": {}, 
            "outputs": [], 
            "source": "## select features to follow"
        }, 
        {
            "execution_count": 59, 
            "cell_type": "code", 
            "metadata": {}, 
            "outputs": [], 
            "source": "features = pd.DataFrame(columns = [\"Date\", \"Primary Type\", \"Location Description\", \"Community Area\", \"Beat\", \"District\", \"Ward\"])\nfeat_value = crimes05_17[[\"Date\", \"Primary Type\", \"Location Description\", \"Community Area\", \"Beat\", \"District\", \"Ward\"]]"
        }, 
        {
            "execution_count": 60, 
            "cell_type": "code", 
            "metadata": {}, 
            "outputs": [
                {
                    "output_type": "stream", 
                    "name": "stdout", 
                    "text": "<class 'pandas.core.frame.DataFrame'>\nInt64Index: 4336556 entries, 0 to 1456713\nData columns (total 7 columns):\nDate                    datetime64[ns]\nPrimary Type            object\nLocation Description    object\nCommunity Area          float64\nBeat                    int64\nDistrict                float64\nWard                    float64\ndtypes: datetime64[ns](1), float64(3), int64(1), object(2)\nmemory usage: 264.7+ MB\nselected features are: None\nthe number of crime from 05_17 is: (4336556, 7)\n"
                }
            ], 
            "source": "print (\"selected features are:\", feat_value.info())\nprint (\"the number of crime from 05_17 is:\", feat_value.shape)"
        }, 
        {
            "execution_count": 62, 
            "cell_type": "code", 
            "metadata": {}, 
            "outputs": [], 
            "source": "## check NULLs"
        }, 
        {
            "execution_count": 63, 
            "cell_type": "code", 
            "metadata": {}, 
            "outputs": [
                {
                    "execution_count": 63, 
                    "metadata": {}, 
                    "data": {
                        "text/plain": "['Location Description', 'Community Area', 'District', 'Ward']"
                    }, 
                    "output_type": "execute_result"
                }
            ], 
            "source": "null_col=feat_value.columns[feat_value.isnull().any()].tolist()\nnull_col\n#fea_value2 = fea_value.dropna(axis=0)"
        }, 
        {
            "execution_count": 64, 
            "cell_type": "code", 
            "metadata": {}, 
            "outputs": [
                {
                    "execution_count": 64, 
                    "metadata": {}, 
                    "data": {
                        "text/plain": "Location Description    0.045013\nCommunity Area          0.026058\nDistrict                0.001084\nWard                    0.001430\ndtype: float64"
                    }, 
                    "output_type": "execute_result"
                }
            ], 
            "source": "percent_missing =feat_value[null_col].isnull().sum() * 100 / len(feat_value)\npercent_missing"
        }, 
        {
            "execution_count": 65, 
            "cell_type": "code", 
            "metadata": {}, 
            "outputs": [], 
            "source": "feat_value=feat_value.dropna(axis=0)"
        }, 
        {
            "execution_count": 66, 
            "cell_type": "code", 
            "metadata": {}, 
            "outputs": [
                {
                    "execution_count": 66, 
                    "metadata": {}, 
                    "data": {
                        "text/plain": "[]"
                    }, 
                    "output_type": "execute_result"
                }
            ], 
            "source": "feat_value.columns[feat_value.isnull().any()].tolist()"
        }, 
        {
            "execution_count": 67, 
            "cell_type": "code", 
            "metadata": {}, 
            "outputs": [], 
            "source": "## index date column"
        }, 
        {
            "execution_count": 68, 
            "cell_type": "code", 
            "metadata": {}, 
            "outputs": [], 
            "source": "feat_value.index = pd.DatetimeIndex(feat_value.Date)"
        }, 
        {
            "execution_count": 69, 
            "cell_type": "code", 
            "metadata": {}, 
            "outputs": [
                {
                    "output_type": "stream", 
                    "name": "stdout", 
                    "text": "possible places are: STREET                            1079296\nRESIDENCE                          713676\nAPARTMENT                          489189\nSIDEWALK                           482100\nOTHER                              158189\nPARKING LOT/GARAGE(NON.RESID.)     120633\nALLEY                               97834\nSCHOOL, PUBLIC, BUILDING            90697\nRESIDENCE-GARAGE                    84844\nVEHICLE NON-COMMERCIAL              77988\nSMALL RETAIL STORE                  75925\nRESIDENCE PORCH/HALLWAY             74724\nRESTAURANT                          65752\nRESIDENTIAL YARD (FRONT/BACK)       56574\nDEPARTMENT STORE                    53256\nGROCERY FOOD STORE                  50266\nGAS STATION                         45810\nPARK PROPERTY                       34227\nCOMMERCIAL / BUSINESS OFFICE        27548\nBAR OR TAVERN                       24763\nName: Location Description, dtype: int64\nprimary types are: THEFT                               906811\nBATTERY                             777960\nCRIMINAL DAMAGE                     499254\nNARCOTICS                           473690\nOTHER OFFENSE                       264135\nBURGLARY                            264007\nASSAULT                             260769\nMOTOR VEHICLE THEFT                 196776\nDECEPTIVE PRACTICE                  168946\nROBBERY                             165685\nCRIMINAL TRESPASS                   122953\nWEAPONS VIOLATION                    44322\nPROSTITUTION                         40866\nPUBLIC PEACE VIOLATION               35015\nOFFENSE INVOLVING CHILDREN           29854\nCRIM SEXUAL ASSAULT                  17068\nSEX OFFENSE                          14667\nINTERFERENCE WITH PUBLIC OFFICER     11242\nGAMBLING                              9920\nLIQUOR LAW VIOLATION                  8276\nName: Primary Type, dtype: int64\n"
                }
            ], 
            "source": "print (\"possible places are:\", feat_value['Location Description'].value_counts().head(20))\nprint (\"primary types are:\", feat_value['Primary Type'].value_counts().head(20))"
        }, 
        {
            "execution_count": 70, 
            "cell_type": "code", 
            "metadata": {}, 
            "outputs": [], 
            "source": "## label encode primary type of crime"
        }, 
        {
            "execution_count": 71, 
            "cell_type": "code", 
            "metadata": {}, 
            "outputs": [], 
            "source": "primary_type = preprocessing.LabelEncoder()"
        }, 
        {
            "execution_count": 72, 
            "cell_type": "code", 
            "metadata": {}, 
            "outputs": [
                {
                    "output_type": "stream", 
                    "name": "stdout", 
                    "text": "labels for primary types are: 32    906811\n2     777960\n6     499254\n17    473690\n24    264135\n3     264007\n1     260769\n16    196776\n8     168946\n29    165685\n7     122953\n33     44322\n25     40866\n27     35015\n22     29854\n5      17068\n30     14667\n12     11242\n9       9920\n15      8276\nName: Primary Type in number, dtype: int64\n"
                }
            ], 
            "source": "feat_value.loc[:, 'Primary Type in number'] = primary_type.fit_transform(feat_value['Primary Type'])\nprint (\"labels for primary types are:\", feat_value['Primary Type in number'].value_counts().head(20))"
        }, 
        {
            "execution_count": 73, 
            "cell_type": "code", 
            "metadata": {}, 
            "outputs": [], 
            "source": "## one hot encode "
        }, 
        {
            "execution_count": 76, 
            "cell_type": "code", 
            "metadata": {}, 
            "outputs": [], 
            "source": "feat_onehotcode = feat_value['Primary Type'].astype(str).str.get_dummies()"
        }, 
        {
            "execution_count": 75, 
            "cell_type": "code", 
            "metadata": {}, 
            "outputs": [], 
            "source": "#set labels for time in a day\nfeat_value['hour'] = feat_value.index.hour\nfeat_value['min'] = feat_value.index.minute\nfeat_value[\"Business Hour\"] =np.where(feat_value['hour'].between(9,17), 1, 0)\n#set labels for day of the week\nfeat_value['Day of Week'] = feat_value.index.dayofweek\nfeat_value[\"Business Day\"] =np.where(feat_value['Day of Week'].between(0,4), 1, 0)\n#set day of a month\nfeat_value['Day of Month']= feat_value.index.day"
        }, 
        {
            "execution_count": 77, 
            "cell_type": "code", 
            "metadata": {}, 
            "outputs": [], 
            "source": "#set labels for crime spaces\nlocation = feat_value['Location Description']"
        }, 
        {
            "execution_count": 78, 
            "cell_type": "code", 
            "metadata": {}, 
            "outputs": [], 
            "source": "feat_value.loc[:, 'Location Description Number'] =np.where(location.str.contains('RESIDEN')\n                                                      |location.str.contains('APARTMENT'), 1,\n                                                  np.where(location.str.contains('STREET')\n                                                      |location.str.contains('ALLEY')\n                                                      |location.str.contains('SIDEWALK')\n                                                      |location.str.contains('LOT')\n                                                      |location.str.contains('PARK')\n                                                      |location.str.contains('STATION')\n                                                      |location.str.contains('PUBLIC')\n                                                      |location.str.contains('PLATFORM'), 2,\n                                                  np.where(location.str.contains('STORE')\n                                                       |location.str.contains('RESTAURANT')\n                                                       |location.str.contains('SCHOOL')\n                                                       |location.str.contains('BUILDING')\n                                                       |location.str.contains('BAR')\n                                                       |location.str.contains('OFFICE')\n                                                       |location.str.contains('BUS')\n                                                       |location.str.contains('BANK')\n                                                       |location.str.contains('HOTEL')\n                                                       |location.str.contains('TRAIN')\n                                                        |location.str.contains('VEHICLE'), 3, 0)))"
        }, 
        {
            "execution_count": 79, 
            "cell_type": "code", 
            "metadata": {}, 
            "outputs": [
                {
                    "execution_count": 79, 
                    "metadata": {}, 
                    "data": {
                        "text/plain": "2    2050562\n1    1448740\n3     556848\n0     277220\nName: Location Description Number, dtype: int64"
                    }, 
                    "output_type": "execute_result"
                }
            ], 
            "source": "#0: OTHER\n#1: APARTMENT, RESINDENCE\n#2: OPEN/PUBLIC SPACES (STREET,ALLEY,SIDEWALK,LOT,PARK,STATION,PUBLIC,PLATFORM)\n#3: CLOSED/CORPORATE PLACES (STORE, RESTUARENT, SCHOOL, BUILDING, BAR, OFFICE, BUS, BANK, HOTEL, TRAIN, VEHICLE) \nfeat_value['Location Description Number'].value_counts()"
        }, 
        {
            "execution_count": 80, 
            "cell_type": "code", 
            "metadata": {}, 
            "outputs": [
                {
                    "execution_count": 80, 
                    "metadata": {}, 
                    "data": {
                        "text/plain": "Date\n2006-04-02 13:00:00    1\n2006-02-26 13:40:48    2\n2006-01-08 23:16:00    0\n2006-04-05 18:45:00    1\n2006-02-17 21:03:14    2\n2006-03-30 22:30:00    1\n2006-04-05 12:10:00    2\n2006-04-05 15:00:00    2\n2006-04-05 21:30:00    2\n2006-04-03 03:00:00    2\n2006-04-06 11:15:00    2\n2006-04-04 20:15:00    0\n2006-04-06 11:30:00    2\n2006-02-26 14:47:21    2\n2006-04-03 20:09:00    2\n2006-02-17 21:26:33    2\n2006-04-05 08:00:00    2\n2006-03-31 08:20:00    1\n2006-04-05 13:30:00    2\n2006-03-31 05:00:00    2\nName: Location Description Number, dtype: int64"
                    }, 
                    "output_type": "execute_result"
                }
            ], 
            "source": "feat_value['Location Description Number'].head(20)"
        }, 
        {
            "execution_count": 81, 
            "cell_type": "code", 
            "metadata": {}, 
            "outputs": [], 
            "source": "selected_features = feat_value[[\"Date\", \"Primary Type in number\", \"Location Description Number\",\n                                \"Community Area\", \"hour\", \"Day of Week\", \"Business Hour\", \"Business Day\",\n                                \"Day of Month\", \"Beat\", \"District\", \"Ward\"]]"
        }, 
        {
            "execution_count": 82, 
            "cell_type": "code", 
            "metadata": {}, 
            "outputs": [], 
            "source": "selected_features = pd.concat([feat_onehotcode, selected_features], axis=1)"
        }, 
        {
            "execution_count": 83, 
            "cell_type": "code", 
            "metadata": {}, 
            "outputs": [
                {
                    "execution_count": 83, 
                    "metadata": {}, 
                    "data": {
                        "text/html": "<div>\n<style scoped>\n    .dataframe tbody tr th:only-of-type {\n        vertical-align: middle;\n    }\n\n    .dataframe tbody tr th {\n        vertical-align: top;\n    }\n\n    .dataframe thead th {\n        text-align: right;\n    }\n</style>\n<table border=\"1\" class=\"dataframe\">\n  <thead>\n    <tr style=\"text-align: right;\">\n      <th></th>\n      <th>ARSON</th>\n      <th>ASSAULT</th>\n      <th>BATTERY</th>\n      <th>BURGLARY</th>\n      <th>CONCEALED CARRY LICENSE VIOLATION</th>\n      <th>CRIM SEXUAL ASSAULT</th>\n      <th>CRIMINAL DAMAGE</th>\n      <th>CRIMINAL TRESPASS</th>\n      <th>DECEPTIVE PRACTICE</th>\n      <th>GAMBLING</th>\n      <th>...</th>\n      <th>Location Description Number</th>\n      <th>Community Area</th>\n      <th>hour</th>\n      <th>Day of Week</th>\n      <th>Business Hour</th>\n      <th>Business Day</th>\n      <th>Day of Month</th>\n      <th>Beat</th>\n      <th>District</th>\n      <th>Ward</th>\n    </tr>\n    <tr>\n      <th>Date</th>\n      <th></th>\n      <th></th>\n      <th></th>\n      <th></th>\n      <th></th>\n      <th></th>\n      <th></th>\n      <th></th>\n      <th></th>\n      <th></th>\n      <th></th>\n      <th></th>\n      <th></th>\n      <th></th>\n      <th></th>\n      <th></th>\n      <th></th>\n      <th></th>\n      <th></th>\n      <th></th>\n      <th></th>\n    </tr>\n  </thead>\n  <tbody>\n    <tr>\n      <th>2006-04-02 13:00:00</th>\n      <td>0</td>\n      <td>0</td>\n      <td>0</td>\n      <td>0</td>\n      <td>0</td>\n      <td>0</td>\n      <td>0</td>\n      <td>0</td>\n      <td>0</td>\n      <td>0</td>\n      <td>...</td>\n      <td>1</td>\n      <td>11.0</td>\n      <td>13</td>\n      <td>6</td>\n      <td>1</td>\n      <td>0</td>\n      <td>2</td>\n      <td>1622</td>\n      <td>16.0</td>\n      <td>45.0</td>\n    </tr>\n    <tr>\n      <th>2006-02-26 13:40:48</th>\n      <td>0</td>\n      <td>0</td>\n      <td>0</td>\n      <td>0</td>\n      <td>0</td>\n      <td>0</td>\n      <td>0</td>\n      <td>0</td>\n      <td>0</td>\n      <td>0</td>\n      <td>...</td>\n      <td>2</td>\n      <td>42.0</td>\n      <td>13</td>\n      <td>6</td>\n      <td>1</td>\n      <td>0</td>\n      <td>26</td>\n      <td>321</td>\n      <td>3.0</td>\n      <td>20.0</td>\n    </tr>\n    <tr>\n      <th>2006-01-08 23:16:00</th>\n      <td>0</td>\n      <td>1</td>\n      <td>0</td>\n      <td>0</td>\n      <td>0</td>\n      <td>0</td>\n      <td>0</td>\n      <td>0</td>\n      <td>0</td>\n      <td>0</td>\n      <td>...</td>\n      <td>0</td>\n      <td>69.0</td>\n      <td>23</td>\n      <td>6</td>\n      <td>0</td>\n      <td>0</td>\n      <td>8</td>\n      <td>321</td>\n      <td>3.0</td>\n      <td>5.0</td>\n    </tr>\n    <tr>\n      <th>2006-04-05 18:45:00</th>\n      <td>0</td>\n      <td>0</td>\n      <td>1</td>\n      <td>0</td>\n      <td>0</td>\n      <td>0</td>\n      <td>0</td>\n      <td>0</td>\n      <td>0</td>\n      <td>0</td>\n      <td>...</td>\n      <td>1</td>\n      <td>17.0</td>\n      <td>18</td>\n      <td>2</td>\n      <td>0</td>\n      <td>1</td>\n      <td>5</td>\n      <td>1633</td>\n      <td>16.0</td>\n      <td>38.0</td>\n    </tr>\n    <tr>\n      <th>2006-02-17 21:03:14</th>\n      <td>0</td>\n      <td>0</td>\n      <td>0</td>\n      <td>0</td>\n      <td>0</td>\n      <td>0</td>\n      <td>0</td>\n      <td>0</td>\n      <td>0</td>\n      <td>0</td>\n      <td>...</td>\n      <td>2</td>\n      <td>65.0</td>\n      <td>21</td>\n      <td>4</td>\n      <td>0</td>\n      <td>1</td>\n      <td>17</td>\n      <td>822</td>\n      <td>8.0</td>\n      <td>13.0</td>\n    </tr>\n  </tbody>\n</table>\n<p>5 rows \u00d7 46 columns</p>\n</div>", 
                        "text/plain": "                     ARSON  ASSAULT  BATTERY  BURGLARY  \\\nDate                                                     \n2006-04-02 13:00:00      0        0        0         0   \n2006-02-26 13:40:48      0        0        0         0   \n2006-01-08 23:16:00      0        1        0         0   \n2006-04-05 18:45:00      0        0        1         0   \n2006-02-17 21:03:14      0        0        0         0   \n\n                     CONCEALED CARRY LICENSE VIOLATION  CRIM SEXUAL ASSAULT  \\\nDate                                                                          \n2006-04-02 13:00:00                                  0                    0   \n2006-02-26 13:40:48                                  0                    0   \n2006-01-08 23:16:00                                  0                    0   \n2006-04-05 18:45:00                                  0                    0   \n2006-02-17 21:03:14                                  0                    0   \n\n                     CRIMINAL DAMAGE  CRIMINAL TRESPASS  DECEPTIVE PRACTICE  \\\nDate                                                                          \n2006-04-02 13:00:00                0                  0                   0   \n2006-02-26 13:40:48                0                  0                   0   \n2006-01-08 23:16:00                0                  0                   0   \n2006-04-05 18:45:00                0                  0                   0   \n2006-02-17 21:03:14                0                  0                   0   \n\n                     GAMBLING  ...   Location Description Number  \\\nDate                           ...                                 \n2006-04-02 13:00:00         0  ...                             1   \n2006-02-26 13:40:48         0  ...                             2   \n2006-01-08 23:16:00         0  ...                             0   \n2006-04-05 18:45:00         0  ...                             1   \n2006-02-17 21:03:14         0  ...                             2   \n\n                     Community Area  hour  Day of Week  Business Hour  \\\nDate                                                                    \n2006-04-02 13:00:00            11.0    13            6              1   \n2006-02-26 13:40:48            42.0    13            6              1   \n2006-01-08 23:16:00            69.0    23            6              0   \n2006-04-05 18:45:00            17.0    18            2              0   \n2006-02-17 21:03:14            65.0    21            4              0   \n\n                     Business Day  Day of Month  Beat  District  Ward  \nDate                                                                   \n2006-04-02 13:00:00             0             2  1622      16.0  45.0  \n2006-02-26 13:40:48             0            26   321       3.0  20.0  \n2006-01-08 23:16:00             0             8   321       3.0   5.0  \n2006-04-05 18:45:00             1             5  1633      16.0  38.0  \n2006-02-17 21:03:14             1            17   822       8.0  13.0  \n\n[5 rows x 46 columns]"
                    }, 
                    "output_type": "execute_result"
                }
            ], 
            "source": "selected_features.head()"
        }, 
        {
            "execution_count": 86, 
            "cell_type": "code", 
            "metadata": {}, 
            "outputs": [], 
            "source": "selected_features = selected_features[selected_features[\"Location Description Number\"] != 0]"
        }, 
        {
            "execution_count": 87, 
            "cell_type": "code", 
            "metadata": {}, 
            "outputs": [
                {
                    "execution_count": 87, 
                    "metadata": {}, 
                    "data": {
                        "text/plain": "2    2050562\n1    1448740\n3     556848\nName: Location Description Number, dtype: int64"
                    }, 
                    "output_type": "execute_result"
                }
            ], 
            "source": "selected_features[\"Location Description Number\"].value_counts()"
        }, 
        {
            "execution_count": 88, 
            "cell_type": "code", 
            "metadata": {}, 
            "outputs": [
                {
                    "execution_count": 88, 
                    "metadata": {}, 
                    "data": {
                        "text/html": "<div>\n<style scoped>\n    .dataframe tbody tr th:only-of-type {\n        vertical-align: middle;\n    }\n\n    .dataframe tbody tr th {\n        vertical-align: top;\n    }\n\n    .dataframe thead th {\n        text-align: right;\n    }\n</style>\n<table border=\"1\" class=\"dataframe\">\n  <thead>\n    <tr style=\"text-align: right;\">\n      <th></th>\n      <th>ARSON</th>\n      <th>ASSAULT</th>\n      <th>BATTERY</th>\n      <th>BURGLARY</th>\n      <th>CONCEALED CARRY LICENSE VIOLATION</th>\n      <th>CRIM SEXUAL ASSAULT</th>\n      <th>CRIMINAL DAMAGE</th>\n      <th>CRIMINAL TRESPASS</th>\n      <th>DECEPTIVE PRACTICE</th>\n      <th>GAMBLING</th>\n      <th>...</th>\n      <th>Location Description Number</th>\n      <th>Community Area</th>\n      <th>hour</th>\n      <th>Day of Week</th>\n      <th>Business Hour</th>\n      <th>Business Day</th>\n      <th>Day of Month</th>\n      <th>Beat</th>\n      <th>District</th>\n      <th>Ward</th>\n    </tr>\n    <tr>\n      <th>Date</th>\n      <th></th>\n      <th></th>\n      <th></th>\n      <th></th>\n      <th></th>\n      <th></th>\n      <th></th>\n      <th></th>\n      <th></th>\n      <th></th>\n      <th></th>\n      <th></th>\n      <th></th>\n      <th></th>\n      <th></th>\n      <th></th>\n      <th></th>\n      <th></th>\n      <th></th>\n      <th></th>\n      <th></th>\n    </tr>\n  </thead>\n  <tbody>\n    <tr>\n      <th>2006-04-02 13:00:00</th>\n      <td>0</td>\n      <td>0</td>\n      <td>0</td>\n      <td>0</td>\n      <td>0</td>\n      <td>0</td>\n      <td>0</td>\n      <td>0</td>\n      <td>0</td>\n      <td>0</td>\n      <td>...</td>\n      <td>1</td>\n      <td>11.0</td>\n      <td>13</td>\n      <td>6</td>\n      <td>1</td>\n      <td>0</td>\n      <td>2</td>\n      <td>1622</td>\n      <td>16.0</td>\n      <td>45.0</td>\n    </tr>\n    <tr>\n      <th>2006-02-26 13:40:48</th>\n      <td>0</td>\n      <td>0</td>\n      <td>0</td>\n      <td>0</td>\n      <td>0</td>\n      <td>0</td>\n      <td>0</td>\n      <td>0</td>\n      <td>0</td>\n      <td>0</td>\n      <td>...</td>\n      <td>2</td>\n      <td>42.0</td>\n      <td>13</td>\n      <td>6</td>\n      <td>1</td>\n      <td>0</td>\n      <td>26</td>\n      <td>321</td>\n      <td>3.0</td>\n      <td>20.0</td>\n    </tr>\n    <tr>\n      <th>2006-04-05 18:45:00</th>\n      <td>0</td>\n      <td>0</td>\n      <td>1</td>\n      <td>0</td>\n      <td>0</td>\n      <td>0</td>\n      <td>0</td>\n      <td>0</td>\n      <td>0</td>\n      <td>0</td>\n      <td>...</td>\n      <td>1</td>\n      <td>17.0</td>\n      <td>18</td>\n      <td>2</td>\n      <td>0</td>\n      <td>1</td>\n      <td>5</td>\n      <td>1633</td>\n      <td>16.0</td>\n      <td>38.0</td>\n    </tr>\n    <tr>\n      <th>2006-02-17 21:03:14</th>\n      <td>0</td>\n      <td>0</td>\n      <td>0</td>\n      <td>0</td>\n      <td>0</td>\n      <td>0</td>\n      <td>0</td>\n      <td>0</td>\n      <td>0</td>\n      <td>0</td>\n      <td>...</td>\n      <td>2</td>\n      <td>65.0</td>\n      <td>21</td>\n      <td>4</td>\n      <td>0</td>\n      <td>1</td>\n      <td>17</td>\n      <td>822</td>\n      <td>8.0</td>\n      <td>13.0</td>\n    </tr>\n    <tr>\n      <th>2006-03-30 22:30:00</th>\n      <td>0</td>\n      <td>1</td>\n      <td>0</td>\n      <td>0</td>\n      <td>0</td>\n      <td>0</td>\n      <td>0</td>\n      <td>0</td>\n      <td>0</td>\n      <td>0</td>\n      <td>...</td>\n      <td>1</td>\n      <td>67.0</td>\n      <td>22</td>\n      <td>3</td>\n      <td>0</td>\n      <td>1</td>\n      <td>30</td>\n      <td>734</td>\n      <td>7.0</td>\n      <td>17.0</td>\n    </tr>\n  </tbody>\n</table>\n<p>5 rows \u00d7 46 columns</p>\n</div>", 
                        "text/plain": "                     ARSON  ASSAULT  BATTERY  BURGLARY  \\\nDate                                                     \n2006-04-02 13:00:00      0        0        0         0   \n2006-02-26 13:40:48      0        0        0         0   \n2006-04-05 18:45:00      0        0        1         0   \n2006-02-17 21:03:14      0        0        0         0   \n2006-03-30 22:30:00      0        1        0         0   \n\n                     CONCEALED CARRY LICENSE VIOLATION  CRIM SEXUAL ASSAULT  \\\nDate                                                                          \n2006-04-02 13:00:00                                  0                    0   \n2006-02-26 13:40:48                                  0                    0   \n2006-04-05 18:45:00                                  0                    0   \n2006-02-17 21:03:14                                  0                    0   \n2006-03-30 22:30:00                                  0                    0   \n\n                     CRIMINAL DAMAGE  CRIMINAL TRESPASS  DECEPTIVE PRACTICE  \\\nDate                                                                          \n2006-04-02 13:00:00                0                  0                   0   \n2006-02-26 13:40:48                0                  0                   0   \n2006-04-05 18:45:00                0                  0                   0   \n2006-02-17 21:03:14                0                  0                   0   \n2006-03-30 22:30:00                0                  0                   0   \n\n                     GAMBLING  ...   Location Description Number  \\\nDate                           ...                                 \n2006-04-02 13:00:00         0  ...                             1   \n2006-02-26 13:40:48         0  ...                             2   \n2006-04-05 18:45:00         0  ...                             1   \n2006-02-17 21:03:14         0  ...                             2   \n2006-03-30 22:30:00         0  ...                             1   \n\n                     Community Area  hour  Day of Week  Business Hour  \\\nDate                                                                    \n2006-04-02 13:00:00            11.0    13            6              1   \n2006-02-26 13:40:48            42.0    13            6              1   \n2006-04-05 18:45:00            17.0    18            2              0   \n2006-02-17 21:03:14            65.0    21            4              0   \n2006-03-30 22:30:00            67.0    22            3              0   \n\n                     Business Day  Day of Month  Beat  District  Ward  \nDate                                                                   \n2006-04-02 13:00:00             0             2  1622      16.0  45.0  \n2006-02-26 13:40:48             0            26   321       3.0  20.0  \n2006-04-05 18:45:00             1             5  1633      16.0  38.0  \n2006-02-17 21:03:14             1            17   822       8.0  13.0  \n2006-03-30 22:30:00             1            30   734       7.0  17.0  \n\n[5 rows x 46 columns]"
                    }, 
                    "output_type": "execute_result"
                }
            ], 
            "source": "selected_features.head()"
        }, 
        {
            "execution_count": 1, 
            "cell_type": "code", 
            "metadata": {}, 
            "outputs": [], 
            "source": "## save features data in cloud object storage file system"
        }, 
        {
            "execution_count": 90, 
            "cell_type": "code", 
            "metadata": {}, 
            "outputs": [
                {
                    "execution_count": 90, 
                    "metadata": {}, 
                    "data": {
                        "text/plain": "{'asset_id': 'e6a20e10-06c6-4375-a12d-e2c3c33885c3',\n 'bucket_name': 'crimeprediction-donotdelete-pr-8fcnvmlkxwdbol',\n 'file_name': 'selected_features_2005_to_2017.csv',\n 'message': 'File selected_features_2005_to_2017.csv has been written successfully to the associated OS'}"
                    }, 
                    "output_type": "execute_result"
                }
            ], 
            "source": "project.save_data(\"selected_features_2005_to_2017.csv\", selected_features.to_csv(),overwrite=True)"
        }, 
        {
            "execution_count": 92, 
            "cell_type": "code", 
            "metadata": {}, 
            "outputs": [
                {
                    "execution_count": 92, 
                    "metadata": {}, 
                    "data": {
                        "text/html": "<div>\n<style scoped>\n    .dataframe tbody tr th:only-of-type {\n        vertical-align: middle;\n    }\n\n    .dataframe tbody tr th {\n        vertical-align: top;\n    }\n\n    .dataframe thead th {\n        text-align: right;\n    }\n</style>\n<table border=\"1\" class=\"dataframe\">\n  <thead>\n    <tr style=\"text-align: right;\">\n      <th></th>\n      <th>Date</th>\n      <th>Primary Type</th>\n      <th>Location Description</th>\n      <th>Community Area</th>\n      <th>Beat</th>\n      <th>District</th>\n      <th>Ward</th>\n      <th>Primary Type in number</th>\n      <th>hour</th>\n      <th>min</th>\n      <th>Business Hour</th>\n      <th>Day of Week</th>\n      <th>Business Day</th>\n      <th>Day of Month</th>\n      <th>Location Description Number</th>\n    </tr>\n    <tr>\n      <th>Date</th>\n      <th></th>\n      <th></th>\n      <th></th>\n      <th></th>\n      <th></th>\n      <th></th>\n      <th></th>\n      <th></th>\n      <th></th>\n      <th></th>\n      <th></th>\n      <th></th>\n      <th></th>\n      <th></th>\n      <th></th>\n    </tr>\n  </thead>\n  <tbody>\n    <tr>\n      <th>2017-01-01 01:00:00</th>\n      <td>2017-01-01 01:00:00</td>\n      <td>BATTERY</td>\n      <td>BAR OR TAVERN</td>\n      <td>8.0</td>\n      <td>1824</td>\n      <td>18.0</td>\n      <td>42.0</td>\n      <td>2</td>\n      <td>1</td>\n      <td>0</td>\n      <td>0</td>\n      <td>6</td>\n      <td>0</td>\n      <td>1</td>\n      <td>3</td>\n    </tr>\n    <tr>\n      <th>2017-01-01 01:23:00</th>\n      <td>2017-01-01 01:23:00</td>\n      <td>PUBLIC PEACE VIOLATION</td>\n      <td>SIDEWALK</td>\n      <td>71.0</td>\n      <td>613</td>\n      <td>6.0</td>\n      <td>21.0</td>\n      <td>27</td>\n      <td>1</td>\n      <td>23</td>\n      <td>0</td>\n      <td>6</td>\n      <td>0</td>\n      <td>1</td>\n      <td>2</td>\n    </tr>\n    <tr>\n      <th>2017-01-01 00:01:00</th>\n      <td>2017-01-01 00:01:00</td>\n      <td>CRIMINAL DAMAGE</td>\n      <td>RESIDENCE</td>\n      <td>42.0</td>\n      <td>314</td>\n      <td>3.0</td>\n      <td>5.0</td>\n      <td>6</td>\n      <td>0</td>\n      <td>1</td>\n      <td>0</td>\n      <td>6</td>\n      <td>0</td>\n      <td>1</td>\n      <td>1</td>\n    </tr>\n    <tr>\n      <th>2017-01-01 00:00:00</th>\n      <td>2017-01-01 00:00:00</td>\n      <td>CRIMINAL DAMAGE</td>\n      <td>STREET</td>\n      <td>69.0</td>\n      <td>324</td>\n      <td>3.0</td>\n      <td>5.0</td>\n      <td>6</td>\n      <td>0</td>\n      <td>0</td>\n      <td>0</td>\n      <td>6</td>\n      <td>0</td>\n      <td>1</td>\n      <td>2</td>\n    </tr>\n    <tr>\n      <th>2017-01-01 00:00:00</th>\n      <td>2017-01-01 00:00:00</td>\n      <td>BATTERY</td>\n      <td>APARTMENT</td>\n      <td>68.0</td>\n      <td>722</td>\n      <td>7.0</td>\n      <td>20.0</td>\n      <td>2</td>\n      <td>0</td>\n      <td>0</td>\n      <td>0</td>\n      <td>6</td>\n      <td>0</td>\n      <td>1</td>\n      <td>1</td>\n    </tr>\n  </tbody>\n</table>\n</div>", 
                        "text/plain": "                                   Date            Primary Type  \\\nDate                                                              \n2017-01-01 01:00:00 2017-01-01 01:00:00                 BATTERY   \n2017-01-01 01:23:00 2017-01-01 01:23:00  PUBLIC PEACE VIOLATION   \n2017-01-01 00:01:00 2017-01-01 00:01:00         CRIMINAL DAMAGE   \n2017-01-01 00:00:00 2017-01-01 00:00:00         CRIMINAL DAMAGE   \n2017-01-01 00:00:00 2017-01-01 00:00:00                 BATTERY   \n\n                    Location Description  Community Area  Beat  District  \\\nDate                                                                       \n2017-01-01 01:00:00        BAR OR TAVERN             8.0  1824      18.0   \n2017-01-01 01:23:00             SIDEWALK            71.0   613       6.0   \n2017-01-01 00:01:00            RESIDENCE            42.0   314       3.0   \n2017-01-01 00:00:00               STREET            69.0   324       3.0   \n2017-01-01 00:00:00            APARTMENT            68.0   722       7.0   \n\n                     Ward  Primary Type in number  hour  min  Business Hour  \\\nDate                                                                          \n2017-01-01 01:00:00  42.0                       2     1    0              0   \n2017-01-01 01:23:00  21.0                      27     1   23              0   \n2017-01-01 00:01:00   5.0                       6     0    1              0   \n2017-01-01 00:00:00   5.0                       6     0    0              0   \n2017-01-01 00:00:00  20.0                       2     0    0              0   \n\n                     Day of Week  Business Day  Day of Month  \\\nDate                                                           \n2017-01-01 01:00:00            6             0             1   \n2017-01-01 01:23:00            6             0             1   \n2017-01-01 00:01:00            6             0             1   \n2017-01-01 00:00:00            6             0             1   \n2017-01-01 00:00:00            6             0             1   \n\n                     Location Description Number  \nDate                                              \n2017-01-01 01:00:00                            3  \n2017-01-01 01:23:00                            2  \n2017-01-01 00:01:00                            1  \n2017-01-01 00:00:00                            2  \n2017-01-01 00:00:00                            1  "
                    }, 
                    "output_type": "execute_result"
                }
            ], 
            "source": "crimes_2017 = feat_value.loc['2017']\ncrimes_2017.head()"
        }, 
        {
            "execution_count": null, 
            "cell_type": "code", 
            "metadata": {}, 
            "outputs": [], 
            "source": ""
        }
    ], 
    "metadata": {
        "kernelspec": {
            "display_name": "Python 3.5 with Spark 2.1", 
            "name": "python3-spark21", 
            "language": "python"
        }, 
        "language_info": {
            "mimetype": "text/x-python", 
            "nbconvert_exporter": "python", 
            "version": "3.5.4", 
            "name": "python", 
            "file_extension": ".py", 
            "pygments_lexer": "ipython3", 
            "codemirror_mode": {
                "version": 3, 
                "name": "ipython"
            }
        }
    }, 
    "nbformat": 4
}