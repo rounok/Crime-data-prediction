{
    "nbformat_minor": 1, 
    "cells": [
        {
            "execution_count": 54, 
            "cell_type": "code", 
            "metadata": {}, 
            "outputs": [], 
            "source": "# The code was removed by Watson Studio for sharing."
        }, 
        {
            "execution_count": 75, 
            "cell_type": "code", 
            "metadata": {}, 
            "outputs": [], 
            "source": "#!pip install watson_machine_learning_client==1.0.53"
        }, 
        {
            "execution_count": 78, 
            "cell_type": "code", 
            "metadata": {}, 
            "outputs": [], 
            "source": "import numpy as np\nimport pandas as pd\n\nfrom keras.models import Model, load_model\n\nimport h5py as h5\nimport sys\nimport types\nimport zipfile\nfrom project_lib import Project\n\n# https://wml-api-pyclient.mybluemix.net/\nfrom watson_machine_learning_client import WatsonMachineLearningAPIClient\n\n"
        }, 
        {
            "execution_count": 56, 
            "cell_type": "code", 
            "metadata": {}, 
            "outputs": [
                {
                    "output_type": "stream", 
                    "name": "stdout", 
                    "text": "<class 'Exception'> Something went wrong! error message:Project___get_file_name_from_asset_metadata(): asset name [crime_data.zip] can not be found!!\na2_m1.json\t       a2_m4.json.zip\t      my_modelx.h5\r\na2_m1.json.zip\t       a2_m4.json.zip.base64  __pycache__\r\na2_m1.json.zip.base64  a_yrua4s_anything.log  rklib.py\r\na2_m2.json\t       crime_data_gru.tgz     rklib.pyc\r\na2_m2.json.zip\t       crime_data.h5\t      scratch_space\r\na2_m2.json.zip.base64  crime_data.zip\t      sonar.csv\r\na2_m3.json\t       dl4j-snapshot.jar      toronto_part1.csv\r\na2_m3.json.zip\t       model_gru.h5\t      toxic.zip\r\na2_m3.json.zip.base64  model.h5\t\t      watsoniotp.broken.pickle\r\na2_m4.json\t       model.h5.base64\t      watsoniotp.healthy.pickle\r\n"
                }
            ], 
            "source": "def get_zip(file_name):\n    '''\n    file_name = Name of zip file you want to download from object storage\n    '''\n    try:\n        fobj = open(file_name, \"wb\")\n        fobj.write(project.get_file(file_name).read()) \n        fobj.close()\n        z = zipfile.ZipFile(file_name)\n        z.extractall()\n    except Exception as e:\n        print(Exception,e)\n    else:\n        print('Files downloaded successfully')\n        \nget_zip('crime_data.zip')\n!ls"
        }, 
        {
            "execution_count": null, 
            "cell_type": "code", 
            "metadata": {}, 
            "outputs": [], 
            "source": "## load saved model"
        }, 
        {
            "execution_count": 81, 
            "cell_type": "code", 
            "metadata": {}, 
            "outputs": [
                {
                    "output_type": "stream", 
                    "name": "stdout", 
                    "text": "model_gru.h5\na2_m1.json\t       a2_m4.json.zip\t      my_modelx.h5\na2_m1.json.zip\t       a2_m4.json.zip.base64  __pycache__\na2_m1.json.zip.base64  a_yrua4s_anything.log  rklib.py\na2_m2.json\t       crime_data_gru.tgz     rklib.pyc\na2_m2.json.zip\t       crime_data.h5\t      scratch_space\na2_m2.json.zip.base64  crime_data.zip\t      sonar.csv\na2_m3.json\t       dl4j-snapshot.jar      toronto_part1.csv\na2_m3.json.zip\t       model_gru.h5\t      toxic.zip\na2_m3.json.zip.base64  model.h5\t\t      watsoniotp.broken.pickle\na2_m4.json\t       model.h5.base64\t      watsoniotp.healthy.pickle\n"
                }
            ], 
            "source": "model = load_model('model_gru.h5')\n\nwith h5.File('crime_data.h5') as f:\n    X_train = f['X_train'][...]\n    X_test = f['X_test'][...]\n    y_train = f['y_train'][...]\n    y_test = f['y_test'][...]\n    y_pred_proba = f['y_pred'][...]\n\n!tar -cvzf crime_data_gru.tgz model_gru.h5\n\n!ls\n\n"
        }, 
        {
            "execution_count": 58, 
            "cell_type": "code", 
            "metadata": {}, 
            "outputs": [], 
            "source": "# The code was removed by Watson Studio for sharing."
        }, 
        {
            "execution_count": 59, 
            "cell_type": "code", 
            "metadata": {}, 
            "outputs": [], 
            "source": "metadata = {\n            wml_client.repository.ModelMetaNames.NAME: 'Crime location prediction Model',\n            wml_client.repository.ModelMetaNames.FRAMEWORK_NAME: 'tensorflow',\n            wml_client.repository.ModelMetaNames.FRAMEWORK_VERSION: '1.5',\n            wml_client.repository.ModelMetaNames.RUNTIME_NAME: 'python',\n            wml_client.repository.ModelMetaNames.RUNTIME_VERSION: '3.5',\n            wml_client.repository.ModelMetaNames.FRAMEWORK_LIBRARIES: [{'name':'keras', 'version': '2.1.3'}]\n}\n\npublished_model = wml_client.repository.store_model(model='crime_data_gru.tgz', meta_props=metadata, training_data=X_train, training_target=y_train)"
        }, 
        {
            "execution_count": 60, 
            "cell_type": "code", 
            "metadata": {}, 
            "outputs": [
                {
                    "execution_count": 60, 
                    "metadata": {}, 
                    "data": {
                        "text/plain": "'489c6df9-ae4b-4bc3-8a2e-1b3ea30d934e'"
                    }, 
                    "output_type": "execute_result"
                }
            ], 
            "source": "# get my model ide\nguid = wml_client.repository.get_model_uid(published_model)\nguid"
        }, 
        {
            "execution_count": 61, 
            "cell_type": "code", 
            "metadata": {}, 
            "outputs": [
                {
                    "output_type": "stream", 
                    "name": "stdout", 
                    "text": "------------------------------------  -------------------------------  ------------------------  --------------\nGUID                                  NAME                             CREATED                   FRAMEWORK\n489c6df9-ae4b-4bc3-8a2e-1b3ea30d934e  Crime location prediction Model  2019-01-12T20:07:45.459Z  tensorflow-1.5\n------------------------------------  -------------------------------  ------------------------  --------------\n"
                }
            ], 
            "source": "wml_client.repository.list_models()"
        }, 
        {
            "execution_count": 84, 
            "cell_type": "code", 
            "metadata": {}, 
            "outputs": [], 
            "source": "## deploy model"
        }, 
        {
            "execution_count": 63, 
            "cell_type": "code", 
            "metadata": {
                "scrolled": true
            }, 
            "outputs": [], 
            "source": "deployment = wml_client.deployments.create(guid, 'Crime location prediction Model')"
        }, 
        {
            "execution_count": 79, 
            "cell_type": "code", 
            "metadata": {}, 
            "outputs": [], 
            "source": "deployment_details = wml_client.deployments.get_details('24d56b17-ddfd-43da-8445-52c27b33b714')"
        }, 
        {
            "execution_count": null, 
            "cell_type": "code", 
            "metadata": {}, 
            "outputs": [], 
            "source": "## scoring URL "
        }, 
        {
            "execution_count": 80, 
            "cell_type": "code", 
            "metadata": {}, 
            "outputs": [
                {
                    "output_type": "stream", 
                    "name": "stdout", 
                    "text": "https://us-south.ml.cloud.ibm.com/v3/wml_instances/5bf45d81-7c64-4339-84e9-afb366ef2db8/deployments/24d56b17-ddfd-43da-8445-52c27b33b714/online\n"
                }
            ], 
            "source": "#scoring_url='https://us-south.ml.cloud.ibm.com/v3/wml_instances/5bf45d81-7c64-4339-84e9-afb366ef2db8/deployments/24d56b17-ddfd-43da-8445-52c27b33b714/online'\nscoring_url = wml_client.deployments.get_scoring_url(deployment_details)\nprint(scoring_url)"
        }, 
        {
            "execution_count": null, 
            "cell_type": "code", 
            "metadata": {}, 
            "outputs": [], 
            "source": "## test scoring"
        }, 
        {
            "execution_count": 70, 
            "cell_type": "code", 
            "metadata": {}, 
            "outputs": [
                {
                    "output_type": "stream", 
                    "name": "stdout", 
                    "text": "{'values': [[0.0, 6.0, 24.0, 6.0, 0.0, 0.0]]}\nScoring result: {'fields': ['prediction', 'prediction_classes', 'probability'], 'values': [[[1.5167643141467124e-08, 0.5006483793258667, 0.38024789094924927, 0.11910367012023926], 1, [1.5167643141467124e-08, 0.5006483793258667, 0.38024789094924927, 0.11910367012023926]]]}\n"
                }
            ], 
            "source": "scoring_data = {'values': [X_test[5].tolist()]}\nprint (scoring_data)\npredictions = wml_client.deployments.score(scoring_url, scoring_data)\nprint(\"Scoring result: \" + str(predictions))"
        }
    ], 
    "metadata": {
        "kernelspec": {
            "display_name": "Python 3.5 with Spark 2.1", 
            "name": "python3-spark21", 
            "language": "python"
        }, 
        "language_info": {
            "mimetype": "text/x-python", 
            "nbconvert_exporter": "python", 
            "version": "3.5.4", 
            "name": "python", 
            "file_extension": ".py", 
            "pygments_lexer": "ipython3", 
            "codemirror_mode": {
                "version": 3, 
                "name": "ipython"
            }
        }
    }, 
    "nbformat": 4
}